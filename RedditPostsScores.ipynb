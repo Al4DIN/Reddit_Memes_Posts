{
  "nbformat": 4,
  "nbformat_minor": 0,
  "metadata": {
    "colab": {
      "name": "RedditPostsScores.ipynb",
      "provenance": [],
      "collapsed_sections": []
    },
    "kernelspec": {
      "display_name": "Python 3",
      "language": "python",
      "name": "python3"
    },
    "language_info": {
      "codemirror_mode": {
        "name": "ipython",
        "version": 3
      },
      "file_extension": ".py",
      "mimetype": "text/x-python",
      "name": "python",
      "nbconvert_exporter": "python",
      "pygments_lexer": "ipython3",
      "version": "3.7.1"
    }
  },
  "cells": [
    {
      "cell_type": "markdown",
      "metadata": {
        "id": "3JCLTxwgMSK2"
      },
      "source": [
        "<p>Created by:\n",
        "<ul>\n",
        "  <li> CHIBI Saad </li>\n",
        "  <li> DAHMOU Hicham</li>\n",
        "  <li> JOUDARI Ala eddine</li>\n",
        "</ul>\n",
        "</p>\n",
        "<p >School: IMT Mines Ales</p>\n",
        "<p >Academic year: 2020-2021</p>\n",
        "<p >Supervised by: Sébastien Harispe</p>\n",
        "\n",
        "<h1><center>Machine learning project <br/> Predicting Memes posts scores on Reddit</center></h1>"
      ]
    },
    {
      "cell_type": "code",
      "metadata": {
        "id": "lkstbbf7S3hG"
      },
      "source": [
        "import pandas as pd\n",
        "import numpy as np\n",
        "import matplotlib.pyplot as plt\n",
        "import seaborn as sns\n",
        "import ast, warnings\n",
        "from collections import Counter\n",
        "\n",
        "from sklearn.decomposition import PCA\n",
        "from sklearn.ensemble import RandomForestRegressor\n",
        "from sklearn.pipeline import Pipeline\n",
        "from sklearn.compose import ColumnTransformer\n",
        "from sklearn.preprocessing import StandardScaler, OneHotEncoder, PolynomialFeatures\n",
        "from sklearn.linear_model import LinearRegression, Ridge , BayesianRidge\n",
        "from sklearn.model_selection import train_test_split, cross_val_score, RepeatedKFold,GridSearchCV\n",
        "\n",
        "warnings.filterwarnings('ignore') #Just to remove warning about pandas assignment operations"
      ],
      "execution_count": null,
      "outputs": []
    },
    {
      "cell_type": "markdown",
      "metadata": {
        "id": "_YR-V4V5x4h7"
      },
      "source": [
        "# Defining our task\n",
        "\n",
        "Predicting popularity of posts in social media networks is an interesting task: could be used for more targeted advertising, content filtering (ex: easier content moderation), understanding population general opinion or just improving one's own reputation  (what are the criterias that I must take into account to maximise the number of likes on my new picture in the bahamas).\n",
        "\n",
        "As a platform of tests we chose Reddit: a social news aggregation, web content rating, and discussion website where members submit content to the site such as links, text posts, and images, which are then voted up or down by other members. Posts are organized by subject into user-created boards called \"communities\" or \"subreddits\", which cover a variety of topics such as news, politics, science, memes, music... [source : Wikipedia]\n",
        "\n",
        "In this work we limit ourselves to the topic of memes: popular, well-known and has a dataset ready to use, so the task is to train a memes scores predictor on a specific subreddit and test it on a second one to estimate the possibility of generalization.\n"
      ]
    },
    {
      "cell_type": "markdown",
      "metadata": {
        "id": "wdKPBQPrQe8Q"
      },
      "source": [
        "# Dataset Description and Preprocessing"
      ]
    },
    {
      "cell_type": "markdown",
      "metadata": {
        "id": "ExPpxllIQjva"
      },
      "source": [
        "## Fetching and description"
      ]
    },
    {
      "cell_type": "markdown",
      "metadata": {
        "id": "LrkhSdPZQz7k"
      },
      "source": [
        "For the dataset, we choose the cleaned version in the following git repository:  https://github.com/dimaTrinh/dank_data [accessed 26 Feb, 2021] (that you also will find attached to this notebook).\n"
      ]
    },
    {
      "cell_type": "code",
      "metadata": {
        "id": "Qgqx81JUQzZ6"
      },
      "source": [
        "url = 'https://raw.githubusercontent.com/TiernonRR/Dank_AIT/master/Data/final_dank.csv'\n",
        "reddit_memes_postes = pd.read_csv(url)"
      ],
      "execution_count": null,
      "outputs": []
    },
    {
      "cell_type": "markdown",
      "metadata": {
        "id": "baHEb74XXkdH"
      },
      "source": [
        "It was created first by using the psaw: https://github.com/dmarx/psaw [accessed 26 Feb, 2021]API to fetch reddits posts info (of course from a defined set of subreddits and time intervale) and then clean it by removing the posts for which the URL is not responding at the time of the dataset creation."
      ]
    },
    {
      "cell_type": "markdown",
      "metadata": {
        "id": "bHaCJo5sUYhR"
      },
      "source": [
        "Which give us:"
      ]
    },
    {
      "cell_type": "code",
      "metadata": {
        "colab": {
          "base_uri": "https://localhost:8080/",
          "height": 332
        },
        "id": "uknv8A-GUXjl",
        "outputId": "57522157-1604-4bbe-a10f-63c71de195ca"
      },
      "source": [
        "reddit_memes_postes.head(3)"
      ],
      "execution_count": null,
      "outputs": [
        {
          "output_type": "execute_result",
          "data": {
            "text/html": [
              "<div>\n",
              "<style scoped>\n",
              "    .dataframe tbody tr th:only-of-type {\n",
              "        vertical-align: middle;\n",
              "    }\n",
              "\n",
              "    .dataframe tbody tr th {\n",
              "        vertical-align: top;\n",
              "    }\n",
              "\n",
              "    .dataframe thead th {\n",
              "        text-align: right;\n",
              "    }\n",
              "</style>\n",
              "<table border=\"1\" class=\"dataframe\">\n",
              "  <thead>\n",
              "    <tr style=\"text-align: right;\">\n",
              "      <th></th>\n",
              "      <th>Unnamed: 0</th>\n",
              "      <th>level_0</th>\n",
              "      <th>index</th>\n",
              "      <th>author</th>\n",
              "      <th>awards</th>\n",
              "      <th>processed_words</th>\n",
              "      <th>created_utc</th>\n",
              "      <th>downs</th>\n",
              "      <th>id</th>\n",
              "      <th>is_nsfw</th>\n",
              "      <th>media</th>\n",
              "      <th>subreddit</th>\n",
              "      <th>subscribers</th>\n",
              "      <th>thumbnail.height</th>\n",
              "      <th>thumbnail.thumbnail</th>\n",
              "      <th>thumbnail.width</th>\n",
              "      <th>title</th>\n",
              "      <th>ups</th>\n",
              "      <th>url</th>\n",
              "      <th>datetime_temp</th>\n",
              "      <th>time_of_day</th>\n",
              "      <th>ups_normed</th>\n",
              "      <th>dank_level</th>\n",
              "      <th>TextLength</th>\n",
              "      <th>Sentiment</th>\n",
              "      <th>word_count</th>\n",
              "      <th>avg_blueRGB</th>\n",
              "      <th>avg_greenRGB</th>\n",
              "      <th>avg_hue</th>\n",
              "      <th>avg_redRGB</th>\n",
              "      <th>avg_saturation</th>\n",
              "      <th>avg_value</th>\n",
              "      <th>off-white</th>\n",
              "      <th>aqua</th>\n",
              "      <th>mustard</th>\n",
              "      <th>pure-black</th>\n",
              "      <th>purple</th>\n",
              "      <th>red-brown</th>\n",
              "      <th>dust-brown</th>\n",
              "      <th>gray-blue</th>\n",
              "      <th>orange</th>\n",
              "      <th>salmon</th>\n",
              "      <th>dark-green</th>\n",
              "      <th>pink</th>\n",
              "      <th>pure-white</th>\n",
              "      <th>yellow-green</th>\n",
              "      <th>bright-yellow</th>\n",
              "      <th>teal</th>\n",
              "      <th>cyan</th>\n",
              "      <th>gray</th>\n",
              "      <th>maroon</th>\n",
              "      <th>olive</th>\n",
              "      <th>light-blue</th>\n",
              "      <th>plum</th>\n",
              "      <th>siena-brown</th>\n",
              "      <th>gold</th>\n",
              "      <th>pure-red</th>\n",
              "      <th>pure-green</th>\n",
              "      <th>pure-blue</th>\n",
              "      <th>coral</th>\n",
              "      <th>peach</th>\n",
              "      <th>col</th>\n",
              "      <th>vgg1_prob</th>\n",
              "      <th>vgg2_prob</th>\n",
              "      <th>vgg3_prob</th>\n",
              "      <th>vgg_feature_1</th>\n",
              "      <th>vgg_feature_2</th>\n",
              "      <th>vgg_feature_3</th>\n",
              "    </tr>\n",
              "  </thead>\n",
              "  <tbody>\n",
              "    <tr>\n",
              "      <th>0</th>\n",
              "      <td>1</td>\n",
              "      <td>1.0</td>\n",
              "      <td>1.0</td>\n",
              "      <td>MrManic_BipolarJesus</td>\n",
              "      <td>[]</td>\n",
              "      <td>['sometimesth', 'face', 'go', 'work', 'get', '...</td>\n",
              "      <td>1.584487e+09</td>\n",
              "      <td>0.0</td>\n",
              "      <td>fkf6kd</td>\n",
              "      <td>False</td>\n",
              "      <td>https://i.redd.it/hvwi2hi0fbn41.jpg</td>\n",
              "      <td>r/dank_meme</td>\n",
              "      <td>743610.0</td>\n",
              "      <td>140.0</td>\n",
              "      <td>default</td>\n",
              "      <td>140.0</td>\n",
              "      <td>It just be that way sometimes</td>\n",
              "      <td>1.0</td>\n",
              "      <td>/r/dank_meme/comments/fkf6kd/it_just_be_that_w...</td>\n",
              "      <td>2020-03-17 18:12:42</td>\n",
              "      <td>4.0</td>\n",
              "      <td>0.000001</td>\n",
              "      <td>0.0</td>\n",
              "      <td>118.0</td>\n",
              "      <td>0.58</td>\n",
              "      <td>8.0</td>\n",
              "      <td>147.757079</td>\n",
              "      <td>168.175000</td>\n",
              "      <td>62.086751</td>\n",
              "      <td>117.246365</td>\n",
              "      <td>114.450720</td>\n",
              "      <td>180.432838</td>\n",
              "      <td>0.211911</td>\n",
              "      <td>0.0</td>\n",
              "      <td>26.840028</td>\n",
              "      <td>8.546572</td>\n",
              "      <td>0.0</td>\n",
              "      <td>0.000000</td>\n",
              "      <td>0.707306</td>\n",
              "      <td>0.000000</td>\n",
              "      <td>0.0</td>\n",
              "      <td>2.943594</td>\n",
              "      <td>0.000104</td>\n",
              "      <td>0.0</td>\n",
              "      <td>0.0</td>\n",
              "      <td>0.011115</td>\n",
              "      <td>0.0</td>\n",
              "      <td>0.000000</td>\n",
              "      <td>0.0</td>\n",
              "      <td>0.611011</td>\n",
              "      <td>0.000000</td>\n",
              "      <td>0.0</td>\n",
              "      <td>0.112708</td>\n",
              "      <td>0.0</td>\n",
              "      <td>0.0</td>\n",
              "      <td>2.197957</td>\n",
              "      <td>0.0</td>\n",
              "      <td>0.0</td>\n",
              "      <td>0.0</td>\n",
              "      <td>0.0</td>\n",
              "      <td>2.943594</td>\n",
              "      <td>0.013296</td>\n",
              "      <td>0.111413</td>\n",
              "      <td>0.075089</td>\n",
              "      <td>0.052672</td>\n",
              "      <td>binder</td>\n",
              "      <td>envelope</td>\n",
              "      <td>web_site</td>\n",
              "    </tr>\n",
              "    <tr>\n",
              "      <th>1</th>\n",
              "      <td>3</td>\n",
              "      <td>3.0</td>\n",
              "      <td>3.0</td>\n",
              "      <td>andromedacomp</td>\n",
              "      <td>[]</td>\n",
              "      <td>['time', 'come', 'barter', 'pandem', 'day', 'r...</td>\n",
              "      <td>1.584487e+09</td>\n",
              "      <td>0.0</td>\n",
              "      <td>fkf5n5</td>\n",
              "      <td>False</td>\n",
              "      <td>https://i.redd.it/ndydkhwsman41.jpg</td>\n",
              "      <td>r/dank_meme</td>\n",
              "      <td>743610.0</td>\n",
              "      <td>140.0</td>\n",
              "      <td>https://b.thumbs.redditmedia.com/EzbMKRx8VI20u...</td>\n",
              "      <td>140.0</td>\n",
              "      <td>The time has come for the barter of pandemic d...</td>\n",
              "      <td>27.0</td>\n",
              "      <td>/r/dank_meme/comments/fkf5n5/the_time_has_come...</td>\n",
              "      <td>2020-03-17 18:11:06</td>\n",
              "      <td>4.0</td>\n",
              "      <td>0.000036</td>\n",
              "      <td>0.0</td>\n",
              "      <td>93.0</td>\n",
              "      <td>0.29</td>\n",
              "      <td>8.0</td>\n",
              "      <td>119.370886</td>\n",
              "      <td>129.343111</td>\n",
              "      <td>26.929992</td>\n",
              "      <td>147.671462</td>\n",
              "      <td>60.363362</td>\n",
              "      <td>148.270765</td>\n",
              "      <td>1.511079</td>\n",
              "      <td>0.0</td>\n",
              "      <td>0.001508</td>\n",
              "      <td>4.359288</td>\n",
              "      <td>0.0</td>\n",
              "      <td>0.021108</td>\n",
              "      <td>0.484721</td>\n",
              "      <td>0.077646</td>\n",
              "      <td>0.0</td>\n",
              "      <td>0.059742</td>\n",
              "      <td>0.000000</td>\n",
              "      <td>0.0</td>\n",
              "      <td>0.0</td>\n",
              "      <td>0.000000</td>\n",
              "      <td>0.0</td>\n",
              "      <td>0.000000</td>\n",
              "      <td>0.0</td>\n",
              "      <td>9.953184</td>\n",
              "      <td>0.000377</td>\n",
              "      <td>0.0</td>\n",
              "      <td>0.000000</td>\n",
              "      <td>0.0</td>\n",
              "      <td>0.0</td>\n",
              "      <td>0.036184</td>\n",
              "      <td>0.0</td>\n",
              "      <td>0.0</td>\n",
              "      <td>0.0</td>\n",
              "      <td>0.0</td>\n",
              "      <td>0.059742</td>\n",
              "      <td>0.997712</td>\n",
              "      <td>0.882181</td>\n",
              "      <td>0.059749</td>\n",
              "      <td>0.038527</td>\n",
              "      <td>neck_brace</td>\n",
              "      <td>oxygen_mask</td>\n",
              "      <td>gasmask</td>\n",
              "    </tr>\n",
              "    <tr>\n",
              "      <th>2</th>\n",
              "      <td>4</td>\n",
              "      <td>4.0</td>\n",
              "      <td>4.0</td>\n",
              "      <td>Svagerman</td>\n",
              "      <td>[]</td>\n",
              "      <td>['gang', 'derin', 'mlke', 'wey', 'stealin', 's...</td>\n",
              "      <td>1.584486e+09</td>\n",
              "      <td>0.0</td>\n",
              "      <td>fkezoq</td>\n",
              "      <td>False</td>\n",
              "      <td>https://i.redd.it/43710pqzcbn41.jpg</td>\n",
              "      <td>r/dank_meme</td>\n",
              "      <td>743610.0</td>\n",
              "      <td>134.0</td>\n",
              "      <td>default</td>\n",
              "      <td>140.0</td>\n",
              "      <td>Day 10 of quarantine</td>\n",
              "      <td>1.0</td>\n",
              "      <td>/r/dank_meme/comments/fkezoq/day_10_of_quarant...</td>\n",
              "      <td>2020-03-17 18:00:44</td>\n",
              "      <td>4.0</td>\n",
              "      <td>0.000001</td>\n",
              "      <td>0.0</td>\n",
              "      <td>114.0</td>\n",
              "      <td>0.43</td>\n",
              "      <td>8.0</td>\n",
              "      <td>228.477731</td>\n",
              "      <td>227.718832</td>\n",
              "      <td>24.516272</td>\n",
              "      <td>230.144539</td>\n",
              "      <td>7.356443</td>\n",
              "      <td>231.347965</td>\n",
              "      <td>4.552819</td>\n",
              "      <td>0.0</td>\n",
              "      <td>0.000000</td>\n",
              "      <td>3.422582</td>\n",
              "      <td>0.0</td>\n",
              "      <td>0.017642</td>\n",
              "      <td>0.010244</td>\n",
              "      <td>0.293657</td>\n",
              "      <td>0.0</td>\n",
              "      <td>1.318610</td>\n",
              "      <td>0.000000</td>\n",
              "      <td>0.0</td>\n",
              "      <td>0.0</td>\n",
              "      <td>0.000000</td>\n",
              "      <td>0.0</td>\n",
              "      <td>0.010813</td>\n",
              "      <td>0.0</td>\n",
              "      <td>5.226068</td>\n",
              "      <td>0.009675</td>\n",
              "      <td>0.0</td>\n",
              "      <td>0.000000</td>\n",
              "      <td>0.0</td>\n",
              "      <td>0.0</td>\n",
              "      <td>0.001138</td>\n",
              "      <td>0.0</td>\n",
              "      <td>0.0</td>\n",
              "      <td>0.0</td>\n",
              "      <td>0.0</td>\n",
              "      <td>1.318610</td>\n",
              "      <td>0.537233</td>\n",
              "      <td>0.296721</td>\n",
              "      <td>0.237206</td>\n",
              "      <td>0.112602</td>\n",
              "      <td>envelope</td>\n",
              "      <td>comic_book</td>\n",
              "      <td>web_site</td>\n",
              "    </tr>\n",
              "  </tbody>\n",
              "</table>\n",
              "</div>"
            ],
            "text/plain": [
              "   Unnamed: 0  level_0  index  ... vgg_feature_1 vgg_feature_2 vgg_feature_3\n",
              "0           1      1.0    1.0  ...        binder      envelope      web_site\n",
              "1           3      3.0    3.0  ...    neck_brace   oxygen_mask       gasmask\n",
              "2           4      4.0    4.0  ...      envelope    comic_book      web_site\n",
              "\n",
              "[3 rows x 68 columns]"
            ]
          },
          "metadata": {
            "tags": []
          },
          "execution_count": 218
        }
      ]
    },
    {
      "cell_type": "markdown",
      "metadata": {
        "id": "ANBAUuUETYNm"
      },
      "source": [
        "As for the meaning of each column, we were lucky enough to find the description of the columns at the repo readme and original paper: \"Dank or Not? -- Analyzing and Predicting the Popularity of Memes on Reddit\".\n",
        "\n",
        "(Unnamed: 0 and level_0 are artifacts that we will remove in a few lines).\n"
      ]
    },
    {
      "cell_type": "markdown",
      "metadata": {
        "id": "CQTxNTSoWod_"
      },
      "source": [
        "| Feature | Type | Description |\n",
        "|----------------------|-------------------------------|--------------------------------------------------------|\n",
        "| created_utc | UTC timestamp | time of post submission |\n",
        "| ups | integer | number of upvotes received |\n",
        "| is_nsfw | boolean | indicates if only suitable for 18\\+ |\n",
        "| subreddit | string | subreddit of the submission |\n",
        "| subscribers | integer | number of subscribers to the subreddit |\n",
        "| thumbnail\\.height | floating point value | height of the thumbnail |\n",
        "| thumbnail\\.thumbnail | string | thumbnail media |\n",
        "| thumbnail\\.width | floating point value | width of thumbnail |\n",
        "| title | string | title of the submission |\n",
        "| media | string | link to associated meme media |\n",
        "| ups_normed | floating point value | ups normalized with subscribers |\n",
        "| dank_level | integer | label ups_normed for binary classification |\n",
        "| processed_words | list of strings | filtered and stemmed words from title and image |\n",
        "| word_count | integer | number of words in title and image |\n",
        "| TextLength | integer | number of characters in title |\n",
        "| Sentiment | floating point value | text valence score |\n",
        "| avg_hue | floating point value | average HSV hue value of meme |\n",
        "| avg_saturation | floating point value | average HSV saturation value of meme |\n",
        "| avg_value | floating point value | average HSV value value of meme |\n",
        "| 30 colors | floating point value | normalized pixels of color in image |\n",
        "| VGG_features | list of strings | VGG\\-16's first three guesses about image content |\n",
        "| VGG_probs | list of floating point values | the probabilities of the VGG\\-16's first three guesses |"
      ]
    },
    {
      "cell_type": "markdown",
      "metadata": {
        "id": "HMvly0OycuCV"
      },
      "source": [
        "### Which subreddits and at what time"
      ]
    },
    {
      "cell_type": "markdown",
      "metadata": {
        "id": "zZAj8lvGZS6J"
      },
      "source": [
        "the subreddits that we targeted are :"
      ]
    },
    {
      "cell_type": "code",
      "metadata": {
        "colab": {
          "base_uri": "https://localhost:8080/"
        },
        "id": "myT3gSc4ZSah",
        "outputId": "6fa83ef8-5674-4fb4-e0c4-d680f3bed263"
      },
      "source": [
        "print(reddit_memes_postes[\"subreddit\"].unique())"
      ],
      "execution_count": null,
      "outputs": [
        {
          "output_type": "stream",
          "text": [
            "['r/dank_meme' 'r/dankmeme' 'r/me_irl' 'r/MemeEconomy' 'r/memes' nan]\n"
          ],
          "name": "stdout"
        }
      ]
    },
    {
      "cell_type": "markdown",
      "metadata": {
        "id": "ZERV4iOZZjUO"
      },
      "source": [
        "all of them are memes communities, also we are reminded that some missing data is lurking and waiting to cause problems (we will deal with it in a few lines)"
      ]
    },
    {
      "cell_type": "markdown",
      "metadata": {
        "id": "QvTTfBNUaFY8"
      },
      "source": [
        "As for the time segment for which this data correspond:"
      ]
    },
    {
      "cell_type": "code",
      "metadata": {
        "colab": {
          "base_uri": "https://localhost:8080/"
        },
        "id": "-Xk3NdUnWn-M",
        "outputId": "c355a7a8-c3bd-45e5-fb51-031e91558f38"
      },
      "source": [
        "from datetime import datetime\n",
        "\n",
        "created_utc_min = datetime.utcfromtimestamp(reddit_memes_postes[\"created_utc\"].min()).strftime('%Y-%m-%d %H:%M:%S')\n",
        "created_utc_max = datetime.utcfromtimestamp(reddit_memes_postes[\"created_utc\"].max()).strftime('%Y-%m-%d %H:%M:%S')\n",
        "print(\"from:\", created_utc_min)\n",
        "print(\"to:\", created_utc_max)"
      ],
      "execution_count": null,
      "outputs": [
        {
          "output_type": "stream",
          "text": [
            "from: 2020-03-13 23:17:47\n",
            "to: 2020-03-23 04:59:45\n"
          ],
          "name": "stdout"
        }
      ]
    },
    {
      "cell_type": "markdown",
      "metadata": {
        "id": "YMjrnf6PcVDH"
      },
      "source": [
        "which corresponds to:\n",
        "\n",
        "(https://www.researchgate.net/figure/Timeline-showing-the-most-important-events-occurred-in-the-world-from-novel-coronavirus_fig2_342840258 [accessed 26 Feb, 2021])"
      ]
    },
    {
      "cell_type": "markdown",
      "metadata": {
        "id": "ba2uINqVbQLF"
      },
      "source": [
        "![vgg.png](data:image/png;base64,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)"
      ]
    },
    {
      "cell_type": "markdown",
      "metadata": {
        "id": "E2YxjD6hdJR9"
      },
      "source": [
        "### Can we let go of some columns/rows? (even that we just started)"
      ]
    },
    {
      "cell_type": "markdown",
      "metadata": {
        "id": "twPDPMwddglL"
      },
      "source": [
        "For the columns yes, for the rows no.\n",
        "\n",
        "\n",
        "\n"
      ]
    },
    {
      "cell_type": "markdown",
      "metadata": {
        "id": "2geMCw1NlUGI"
      },
      "source": [
        "As a start, we could let go of:\n",
        "* *Unnamed: 0* and *level_0*  (just artifacts while importing the dataset)\n",
        "* We don't see any value in keeping a zeros column: *downs* \n",
        "* *id*, *author* and *media* that don't add any info (at least without being used to get external data)\n",
        "* *thumbnail.thumbnail* because all links are broken (it is just a resized version of the original image)"
      ]
    },
    {
      "cell_type": "code",
      "metadata": {
        "id": "44E3boQ0Wnou"
      },
      "source": [
        "reddit_memes_postes.drop(columns=[\"Unnamed: 0\", \"index\", \"level_0\", \"downs\", \"id\", \"author\", \"media\", \"thumbnail.thumbnail\"],inplace=True)\n",
        "reddit_memes_postes.reset_index(drop=True, inplace=True)"
      ],
      "execution_count": null,
      "outputs": []
    },
    {
      "cell_type": "markdown",
      "metadata": {
        "id": "tq2Yw4UWpbCJ"
      },
      "source": [
        "*leaving* use with"
      ]
    },
    {
      "cell_type": "code",
      "metadata": {
        "colab": {
          "base_uri": "https://localhost:8080/"
        },
        "id": "9ARPGQ77jyHb",
        "outputId": "60f50e94-916c-4d12-d015-465322184a19"
      },
      "source": [
        "print(reddit_memes_postes.columns)"
      ],
      "execution_count": null,
      "outputs": [
        {
          "output_type": "stream",
          "text": [
            "Index(['awards', 'processed_words', 'created_utc', 'is_nsfw', 'subreddit',\n",
            "       'subscribers', 'thumbnail.height', 'thumbnail.width', 'title', 'ups',\n",
            "       'url', 'datetime_temp', 'time_of_day', 'ups_normed', 'dank_level',\n",
            "       'TextLength', 'Sentiment', 'word_count', 'avg_blueRGB', 'avg_greenRGB',\n",
            "       'avg_hue', 'avg_redRGB', 'avg_saturation', 'avg_value', 'off-white',\n",
            "       'aqua', 'mustard', 'pure-black', 'purple', 'red-brown', 'dust-brown',\n",
            "       'gray-blue', 'orange', 'salmon', 'dark-green', 'pink', 'pure-white',\n",
            "       'yellow-green', 'bright-yellow', 'teal', 'cyan', 'gray', 'maroon',\n",
            "       'olive', 'light-blue', 'plum', 'siena-brown', 'gold', 'pure-red',\n",
            "       'pure-green', 'pure-blue', 'coral', 'peach', 'col', 'vgg1_prob',\n",
            "       'vgg2_prob', 'vgg3_prob', 'vgg_feature_1', 'vgg_feature_2',\n",
            "       'vgg_feature_3'],\n",
            "      dtype='object')\n"
          ],
          "name": "stdout"
        }
      ]
    },
    {
      "cell_type": "markdown",
      "metadata": {
        "id": "KP0s3V--ll20"
      },
      "source": [
        "As for the rows, it is better to wait until we choose the features to keep before dropping the rows with a nan value (to avoid dropping a row because of a value that we don't even care about)."
      ]
    },
    {
      "cell_type": "markdown",
      "metadata": {
        "id": "zVWKri8hpe8R"
      },
      "source": [
        "## Variables description"
      ]
    },
    {
      "cell_type": "code",
      "metadata": {
        "colab": {
          "base_uri": "https://localhost:8080/",
          "height": 334
        },
        "id": "nkA2wccRC0EI",
        "outputId": "3bc3b645-2b43-4843-fe50-4400226f2d44"
      },
      "source": [
        "reddit_memes_postes.describe()"
      ],
      "execution_count": null,
      "outputs": [
        {
          "output_type": "execute_result",
          "data": {
            "text/html": [
              "<div>\n",
              "<style scoped>\n",
              "    .dataframe tbody tr th:only-of-type {\n",
              "        vertical-align: middle;\n",
              "    }\n",
              "\n",
              "    .dataframe tbody tr th {\n",
              "        vertical-align: top;\n",
              "    }\n",
              "\n",
              "    .dataframe thead th {\n",
              "        text-align: right;\n",
              "    }\n",
              "</style>\n",
              "<table border=\"1\" class=\"dataframe\">\n",
              "  <thead>\n",
              "    <tr style=\"text-align: right;\">\n",
              "      <th></th>\n",
              "      <th>created_utc</th>\n",
              "      <th>subscribers</th>\n",
              "      <th>thumbnail.height</th>\n",
              "      <th>thumbnail.width</th>\n",
              "      <th>ups</th>\n",
              "      <th>time_of_day</th>\n",
              "      <th>ups_normed</th>\n",
              "      <th>dank_level</th>\n",
              "      <th>TextLength</th>\n",
              "      <th>Sentiment</th>\n",
              "      <th>word_count</th>\n",
              "      <th>avg_blueRGB</th>\n",
              "      <th>avg_greenRGB</th>\n",
              "      <th>avg_hue</th>\n",
              "      <th>avg_redRGB</th>\n",
              "      <th>avg_saturation</th>\n",
              "      <th>avg_value</th>\n",
              "      <th>off-white</th>\n",
              "      <th>aqua</th>\n",
              "      <th>mustard</th>\n",
              "      <th>pure-black</th>\n",
              "      <th>purple</th>\n",
              "      <th>red-brown</th>\n",
              "      <th>dust-brown</th>\n",
              "      <th>gray-blue</th>\n",
              "      <th>orange</th>\n",
              "      <th>salmon</th>\n",
              "      <th>dark-green</th>\n",
              "      <th>pink</th>\n",
              "      <th>pure-white</th>\n",
              "      <th>yellow-green</th>\n",
              "      <th>bright-yellow</th>\n",
              "      <th>teal</th>\n",
              "      <th>cyan</th>\n",
              "      <th>gray</th>\n",
              "      <th>maroon</th>\n",
              "      <th>olive</th>\n",
              "      <th>light-blue</th>\n",
              "      <th>plum</th>\n",
              "      <th>siena-brown</th>\n",
              "      <th>gold</th>\n",
              "      <th>pure-red</th>\n",
              "      <th>pure-green</th>\n",
              "      <th>pure-blue</th>\n",
              "      <th>coral</th>\n",
              "      <th>peach</th>\n",
              "      <th>col</th>\n",
              "      <th>vgg1_prob</th>\n",
              "      <th>vgg2_prob</th>\n",
              "      <th>vgg3_prob</th>\n",
              "    </tr>\n",
              "  </thead>\n",
              "  <tbody>\n",
              "    <tr>\n",
              "      <th>count</th>\n",
              "      <td>6.994200e+04</td>\n",
              "      <td>6.994200e+04</td>\n",
              "      <td>69902.000000</td>\n",
              "      <td>69902.000000</td>\n",
              "      <td>69942.000000</td>\n",
              "      <td>69942.000000</td>\n",
              "      <td>6.994200e+04</td>\n",
              "      <td>69942.000000</td>\n",
              "      <td>69942.000000</td>\n",
              "      <td>69942.000000</td>\n",
              "      <td>69942.000000</td>\n",
              "      <td>50651.000000</td>\n",
              "      <td>50651.000000</td>\n",
              "      <td>50651.000000</td>\n",
              "      <td>50651.000000</td>\n",
              "      <td>50651.000000</td>\n",
              "      <td>50651.000000</td>\n",
              "      <td>50538.000000</td>\n",
              "      <td>50538.000000</td>\n",
              "      <td>50538.000000</td>\n",
              "      <td>50538.000000</td>\n",
              "      <td>50538.0</td>\n",
              "      <td>50538.000000</td>\n",
              "      <td>50538.000000</td>\n",
              "      <td>50538.000000</td>\n",
              "      <td>50538.000000</td>\n",
              "      <td>50538.000000</td>\n",
              "      <td>50538.000000</td>\n",
              "      <td>50538.0</td>\n",
              "      <td>50538.0</td>\n",
              "      <td>50538.000000</td>\n",
              "      <td>50538.000000</td>\n",
              "      <td>50538.000000</td>\n",
              "      <td>50538.000000</td>\n",
              "      <td>50538.000000</td>\n",
              "      <td>50538.000000</td>\n",
              "      <td>50538.0</td>\n",
              "      <td>50538.000000</td>\n",
              "      <td>50538.0</td>\n",
              "      <td>50538.0</td>\n",
              "      <td>50538.000000</td>\n",
              "      <td>50538.000000</td>\n",
              "      <td>50538.000000</td>\n",
              "      <td>50538.000000</td>\n",
              "      <td>50538.0</td>\n",
              "      <td>50538.000000</td>\n",
              "      <td>50538.000000</td>\n",
              "      <td>43722.000000</td>\n",
              "      <td>4.372200e+04</td>\n",
              "      <td>4.372200e+04</td>\n",
              "    </tr>\n",
              "    <tr>\n",
              "      <th>mean</th>\n",
              "      <td>1.584477e+09</td>\n",
              "      <td>9.207741e+06</td>\n",
              "      <td>125.177248</td>\n",
              "      <td>139.987983</td>\n",
              "      <td>541.237125</td>\n",
              "      <td>2.509351</td>\n",
              "      <td>6.734436e-05</td>\n",
              "      <td>0.049327</td>\n",
              "      <td>125.687641</td>\n",
              "      <td>0.435738</td>\n",
              "      <td>9.531026</td>\n",
              "      <td>128.639556</td>\n",
              "      <td>133.423249</td>\n",
              "      <td>46.300384</td>\n",
              "      <td>140.567151</td>\n",
              "      <td>65.437999</td>\n",
              "      <td>150.060820</td>\n",
              "      <td>4.798367</td>\n",
              "      <td>0.153165</td>\n",
              "      <td>0.167914</td>\n",
              "      <td>16.674078</td>\n",
              "      <td>0.0</td>\n",
              "      <td>2.044136</td>\n",
              "      <td>1.809780</td>\n",
              "      <td>0.583991</td>\n",
              "      <td>0.909801</td>\n",
              "      <td>1.834024</td>\n",
              "      <td>0.500861</td>\n",
              "      <td>0.0</td>\n",
              "      <td>0.0</td>\n",
              "      <td>0.058077</td>\n",
              "      <td>0.046286</td>\n",
              "      <td>0.473762</td>\n",
              "      <td>0.156010</td>\n",
              "      <td>3.638643</td>\n",
              "      <td>0.916173</td>\n",
              "      <td>0.0</td>\n",
              "      <td>0.094840</td>\n",
              "      <td>0.0</td>\n",
              "      <td>0.0</td>\n",
              "      <td>3.750098</td>\n",
              "      <td>0.055067</td>\n",
              "      <td>0.475572</td>\n",
              "      <td>0.109823</td>\n",
              "      <td>0.0</td>\n",
              "      <td>1.834024</td>\n",
              "      <td>2.522078</td>\n",
              "      <td>0.417049</td>\n",
              "      <td>1.000319e-01</td>\n",
              "      <td>5.451307e-02</td>\n",
              "    </tr>\n",
              "    <tr>\n",
              "      <th>std</th>\n",
              "      <td>2.405481e+05</td>\n",
              "      <td>2.340807e+06</td>\n",
              "      <td>21.904673</td>\n",
              "      <td>0.917085</td>\n",
              "      <td>4064.362588</td>\n",
              "      <td>1.642883</td>\n",
              "      <td>6.281470e-04</td>\n",
              "      <td>0.216551</td>\n",
              "      <td>121.264094</td>\n",
              "      <td>0.105836</td>\n",
              "      <td>9.133303</td>\n",
              "      <td>50.418799</td>\n",
              "      <td>49.587056</td>\n",
              "      <td>28.166636</td>\n",
              "      <td>49.936033</td>\n",
              "      <td>38.960155</td>\n",
              "      <td>48.927037</td>\n",
              "      <td>11.777363</td>\n",
              "      <td>2.312782</td>\n",
              "      <td>2.428924</td>\n",
              "      <td>35.540049</td>\n",
              "      <td>0.0</td>\n",
              "      <td>6.211629</td>\n",
              "      <td>5.825221</td>\n",
              "      <td>2.074496</td>\n",
              "      <td>5.528671</td>\n",
              "      <td>7.295825</td>\n",
              "      <td>3.707556</td>\n",
              "      <td>0.0</td>\n",
              "      <td>0.0</td>\n",
              "      <td>1.026982</td>\n",
              "      <td>1.817635</td>\n",
              "      <td>3.120145</td>\n",
              "      <td>2.937522</td>\n",
              "      <td>8.418674</td>\n",
              "      <td>4.200325</td>\n",
              "      <td>0.0</td>\n",
              "      <td>1.811116</td>\n",
              "      <td>0.0</td>\n",
              "      <td>0.0</td>\n",
              "      <td>9.429906</td>\n",
              "      <td>2.321886</td>\n",
              "      <td>4.390867</td>\n",
              "      <td>2.114918</td>\n",
              "      <td>0.0</td>\n",
              "      <td>7.295825</td>\n",
              "      <td>8.577559</td>\n",
              "      <td>0.283978</td>\n",
              "      <td>7.352966e-02</td>\n",
              "      <td>3.798340e-02</td>\n",
              "    </tr>\n",
              "    <tr>\n",
              "      <th>min</th>\n",
              "      <td>1.584141e+09</td>\n",
              "      <td>4.550600e+04</td>\n",
              "      <td>9.000000</td>\n",
              "      <td>70.000000</td>\n",
              "      <td>0.000000</td>\n",
              "      <td>0.000000</td>\n",
              "      <td>0.000000e+00</td>\n",
              "      <td>0.000000</td>\n",
              "      <td>1.000000</td>\n",
              "      <td>0.020000</td>\n",
              "      <td>0.000000</td>\n",
              "      <td>0.000000</td>\n",
              "      <td>0.000000</td>\n",
              "      <td>0.000000</td>\n",
              "      <td>0.000000</td>\n",
              "      <td>0.000000</td>\n",
              "      <td>0.000000</td>\n",
              "      <td>0.000000</td>\n",
              "      <td>0.000000</td>\n",
              "      <td>0.000000</td>\n",
              "      <td>0.000000</td>\n",
              "      <td>0.0</td>\n",
              "      <td>0.000000</td>\n",
              "      <td>0.000000</td>\n",
              "      <td>0.000000</td>\n",
              "      <td>0.000000</td>\n",
              "      <td>0.000000</td>\n",
              "      <td>0.000000</td>\n",
              "      <td>0.0</td>\n",
              "      <td>0.0</td>\n",
              "      <td>0.000000</td>\n",
              "      <td>0.000000</td>\n",
              "      <td>0.000000</td>\n",
              "      <td>0.000000</td>\n",
              "      <td>0.000000</td>\n",
              "      <td>0.000000</td>\n",
              "      <td>0.0</td>\n",
              "      <td>0.000000</td>\n",
              "      <td>0.0</td>\n",
              "      <td>0.0</td>\n",
              "      <td>0.000000</td>\n",
              "      <td>0.000000</td>\n",
              "      <td>0.000000</td>\n",
              "      <td>0.000000</td>\n",
              "      <td>0.0</td>\n",
              "      <td>0.000000</td>\n",
              "      <td>0.000000</td>\n",
              "      <td>0.016944</td>\n",
              "      <td>4.700000e-09</td>\n",
              "      <td>2.900000e-09</td>\n",
              "    </tr>\n",
              "    <tr>\n",
              "      <th>25%</th>\n",
              "      <td>1.584285e+09</td>\n",
              "      <td>9.552833e+06</td>\n",
              "      <td>113.000000</td>\n",
              "      <td>140.000000</td>\n",
              "      <td>3.000000</td>\n",
              "      <td>1.000000</td>\n",
              "      <td>3.747367e-07</td>\n",
              "      <td>0.000000</td>\n",
              "      <td>66.000000</td>\n",
              "      <td>0.400000</td>\n",
              "      <td>5.000000</td>\n",
              "      <td>93.589513</td>\n",
              "      <td>100.048523</td>\n",
              "      <td>24.389515</td>\n",
              "      <td>107.510989</td>\n",
              "      <td>37.174465</td>\n",
              "      <td>117.865021</td>\n",
              "      <td>0.463955</td>\n",
              "      <td>0.000000</td>\n",
              "      <td>0.000000</td>\n",
              "      <td>1.284356</td>\n",
              "      <td>0.0</td>\n",
              "      <td>0.000000</td>\n",
              "      <td>0.001553</td>\n",
              "      <td>0.001221</td>\n",
              "      <td>0.000000</td>\n",
              "      <td>0.000000</td>\n",
              "      <td>0.000000</td>\n",
              "      <td>0.0</td>\n",
              "      <td>0.0</td>\n",
              "      <td>0.000000</td>\n",
              "      <td>0.000000</td>\n",
              "      <td>0.000000</td>\n",
              "      <td>0.000000</td>\n",
              "      <td>0.707092</td>\n",
              "      <td>0.000000</td>\n",
              "      <td>0.0</td>\n",
              "      <td>0.000000</td>\n",
              "      <td>0.0</td>\n",
              "      <td>0.0</td>\n",
              "      <td>0.001864</td>\n",
              "      <td>0.000000</td>\n",
              "      <td>0.000000</td>\n",
              "      <td>0.000000</td>\n",
              "      <td>0.0</td>\n",
              "      <td>0.000000</td>\n",
              "      <td>0.003986</td>\n",
              "      <td>0.178647</td>\n",
              "      <td>4.770961e-02</td>\n",
              "      <td>2.668579e-02</td>\n",
              "    </tr>\n",
              "    <tr>\n",
              "      <th>50%</th>\n",
              "      <td>1.584416e+09</td>\n",
              "      <td>9.552918e+06</td>\n",
              "      <td>140.000000</td>\n",
              "      <td>140.000000</td>\n",
              "      <td>22.000000</td>\n",
              "      <td>3.000000</td>\n",
              "      <td>2.450729e-06</td>\n",
              "      <td>0.000000</td>\n",
              "      <td>100.000000</td>\n",
              "      <td>0.450000</td>\n",
              "      <td>8.000000</td>\n",
              "      <td>126.528284</td>\n",
              "      <td>132.802437</td>\n",
              "      <td>42.309425</td>\n",
              "      <td>141.884962</td>\n",
              "      <td>60.765319</td>\n",
              "      <td>152.472961</td>\n",
              "      <td>1.573736</td>\n",
              "      <td>0.000000</td>\n",
              "      <td>0.000000</td>\n",
              "      <td>4.341714</td>\n",
              "      <td>0.0</td>\n",
              "      <td>0.087599</td>\n",
              "      <td>0.127748</td>\n",
              "      <td>0.049178</td>\n",
              "      <td>0.000000</td>\n",
              "      <td>0.008263</td>\n",
              "      <td>0.000000</td>\n",
              "      <td>0.0</td>\n",
              "      <td>0.0</td>\n",
              "      <td>0.000000</td>\n",
              "      <td>0.000000</td>\n",
              "      <td>0.000000</td>\n",
              "      <td>0.000000</td>\n",
              "      <td>1.652294</td>\n",
              "      <td>0.001946</td>\n",
              "      <td>0.0</td>\n",
              "      <td>0.000000</td>\n",
              "      <td>0.0</td>\n",
              "      <td>0.0</td>\n",
              "      <td>0.319410</td>\n",
              "      <td>0.000000</td>\n",
              "      <td>0.000000</td>\n",
              "      <td>0.000000</td>\n",
              "      <td>0.0</td>\n",
              "      <td>0.008263</td>\n",
              "      <td>0.201326</td>\n",
              "      <td>0.333129</td>\n",
              "      <td>8.447164e-02</td>\n",
              "      <td>4.898013e-02</td>\n",
              "    </tr>\n",
              "    <tr>\n",
              "      <th>75%</th>\n",
              "      <td>1.584593e+09</td>\n",
              "      <td>1.067420e+07</td>\n",
              "      <td>140.000000</td>\n",
              "      <td>140.000000</td>\n",
              "      <td>39.000000</td>\n",
              "      <td>4.000000</td>\n",
              "      <td>4.215734e-06</td>\n",
              "      <td>0.000000</td>\n",
              "      <td>146.000000</td>\n",
              "      <td>0.500000</td>\n",
              "      <td>11.000000</td>\n",
              "      <td>162.083398</td>\n",
              "      <td>167.005624</td>\n",
              "      <td>64.330374</td>\n",
              "      <td>174.196552</td>\n",
              "      <td>89.668617</td>\n",
              "      <td>184.591979</td>\n",
              "      <td>4.369115</td>\n",
              "      <td>0.000000</td>\n",
              "      <td>0.000000</td>\n",
              "      <td>11.297761</td>\n",
              "      <td>0.0</td>\n",
              "      <td>1.165920</td>\n",
              "      <td>1.006928</td>\n",
              "      <td>0.366696</td>\n",
              "      <td>0.000467</td>\n",
              "      <td>0.509722</td>\n",
              "      <td>0.001853</td>\n",
              "      <td>0.0</td>\n",
              "      <td>0.0</td>\n",
              "      <td>0.000000</td>\n",
              "      <td>0.000000</td>\n",
              "      <td>0.005471</td>\n",
              "      <td>0.000000</td>\n",
              "      <td>3.630198</td>\n",
              "      <td>0.150007</td>\n",
              "      <td>0.0</td>\n",
              "      <td>0.000000</td>\n",
              "      <td>0.0</td>\n",
              "      <td>0.0</td>\n",
              "      <td>2.920194</td>\n",
              "      <td>0.000000</td>\n",
              "      <td>0.000000</td>\n",
              "      <td>0.000000</td>\n",
              "      <td>0.0</td>\n",
              "      <td>0.509722</td>\n",
              "      <td>1.466760</td>\n",
              "      <td>0.632396</td>\n",
              "      <td>1.369548e-01</td>\n",
              "      <td>7.537094e-02</td>\n",
              "    </tr>\n",
              "    <tr>\n",
              "      <th>max</th>\n",
              "      <td>1.584940e+09</td>\n",
              "      <td>1.067438e+07</td>\n",
              "      <td>140.000000</td>\n",
              "      <td>140.000000</td>\n",
              "      <td>197317.000000</td>\n",
              "      <td>5.000000</td>\n",
              "      <td>7.238046e-02</td>\n",
              "      <td>1.000000</td>\n",
              "      <td>6862.000000</td>\n",
              "      <td>0.840000</td>\n",
              "      <td>482.000000</td>\n",
              "      <td>255.000000</td>\n",
              "      <td>255.000000</td>\n",
              "      <td>175.696601</td>\n",
              "      <td>255.000000</td>\n",
              "      <td>255.000000</td>\n",
              "      <td>255.000000</td>\n",
              "      <td>247.087264</td>\n",
              "      <td>171.017748</td>\n",
              "      <td>197.031814</td>\n",
              "      <td>255.000000</td>\n",
              "      <td>0.0</td>\n",
              "      <td>172.036725</td>\n",
              "      <td>222.648812</td>\n",
              "      <td>55.851120</td>\n",
              "      <td>255.000000</td>\n",
              "      <td>207.360236</td>\n",
              "      <td>159.829060</td>\n",
              "      <td>0.0</td>\n",
              "      <td>0.0</td>\n",
              "      <td>138.330939</td>\n",
              "      <td>227.438709</td>\n",
              "      <td>226.470820</td>\n",
              "      <td>211.823500</td>\n",
              "      <td>243.805205</td>\n",
              "      <td>195.481185</td>\n",
              "      <td>0.0</td>\n",
              "      <td>232.608481</td>\n",
              "      <td>0.0</td>\n",
              "      <td>0.0</td>\n",
              "      <td>171.191175</td>\n",
              "      <td>228.863858</td>\n",
              "      <td>223.208661</td>\n",
              "      <td>213.277334</td>\n",
              "      <td>0.0</td>\n",
              "      <td>207.360236</td>\n",
              "      <td>169.718836</td>\n",
              "      <td>1.000000</td>\n",
              "      <td>4.935104e-01</td>\n",
              "      <td>2.838654e-01</td>\n",
              "    </tr>\n",
              "  </tbody>\n",
              "</table>\n",
              "</div>"
            ],
            "text/plain": [
              "        created_utc   subscribers  ...     vgg2_prob     vgg3_prob\n",
              "count  6.994200e+04  6.994200e+04  ...  4.372200e+04  4.372200e+04\n",
              "mean   1.584477e+09  9.207741e+06  ...  1.000319e-01  5.451307e-02\n",
              "std    2.405481e+05  2.340807e+06  ...  7.352966e-02  3.798340e-02\n",
              "min    1.584141e+09  4.550600e+04  ...  4.700000e-09  2.900000e-09\n",
              "25%    1.584285e+09  9.552833e+06  ...  4.770961e-02  2.668579e-02\n",
              "50%    1.584416e+09  9.552918e+06  ...  8.447164e-02  4.898013e-02\n",
              "75%    1.584593e+09  1.067420e+07  ...  1.369548e-01  7.537094e-02\n",
              "max    1.584940e+09  1.067438e+07  ...  4.935104e-01  2.838654e-01\n",
              "\n",
              "[8 rows x 50 columns]"
            ]
          },
          "metadata": {
            "tags": []
          },
          "execution_count": 223
        }
      ]
    },
    {
      "cell_type": "markdown",
      "metadata": {
        "id": "SUh4Jt8sp3a5"
      },
      "source": [
        "In this section, we loop through all the variables and discuss each one apart "
      ]
    },
    {
      "cell_type": "markdown",
      "metadata": {
        "id": "QK8g8SIjqGsp"
      },
      "source": [
        "### Awards"
      ]
    },
    {
      "cell_type": "markdown",
      "metadata": {
        "id": "x7yEN9LQqYxr"
      },
      "source": [
        "For some strange reason it isn't on the given description so must inspect it ourselves.\n",
        "\n",
        "At first glance it may seem that it is always empty (like the *downs* column that we removed):"
      ]
    },
    {
      "cell_type": "code",
      "metadata": {
        "colab": {
          "base_uri": "https://localhost:8080/"
        },
        "id": "eaQXNsa9qYR9",
        "outputId": "2603f055-788a-4748-d046-96a333d507ba"
      },
      "source": [
        "((reddit_memes_postes[\"awards\"].notnull()) & (reddit_memes_postes[\"awards\"] != '[]')).value_counts()"
      ],
      "execution_count": null,
      "outputs": [
        {
          "output_type": "execute_result",
          "data": {
            "text/plain": [
              "False    75219\n",
              "True       919\n",
              "Name: awards, dtype: int64"
            ]
          },
          "metadata": {
            "tags": []
          },
          "execution_count": 224
        }
      ]
    },
    {
      "cell_type": "code",
      "metadata": {
        "colab": {
          "base_uri": "https://localhost:8080/"
        },
        "id": "dycBCsLxuhmY",
        "outputId": "55581725-19be-4243-fd2f-3324c2fc11c3"
      },
      "source": [
        "print(\"There are \"+str(round(919/len(reddit_memes_postes)*100,2))+\"% non empty values for the column awards.\")"
      ],
      "execution_count": null,
      "outputs": [
        {
          "output_type": "stream",
          "text": [
            "There are 1.21% non empty values for the column awards.\n"
          ],
          "name": "stdout"
        }
      ]
    },
    {
      "cell_type": "markdown",
      "metadata": {
        "id": "eTqfz4n6r0ii"
      },
      "source": [
        "Examples of values:"
      ]
    },
    {
      "cell_type": "code",
      "metadata": {
        "colab": {
          "base_uri": "https://localhost:8080/"
        },
        "id": "PFF9bH6erBgA",
        "outputId": "d49224a3-2d94-430b-bd41-e7fab2462628"
      },
      "source": [
        "reddit_memes_postes[\"awards\"].value_counts()"
      ],
      "execution_count": null,
      "outputs": [
        {
          "output_type": "execute_result",
          "data": {
            "text/plain": [
              "[]                                                                                                                                                                                                                                                                                                                                                                                                                                                                                                                                                                                                                                                                                                                                                                                                                                                                                                                                                                                                                                                                                                                                                                                                                                                                                                                                                                                                                                                                                                                                                                                                                                                                                                                                                                                                                                                                                                                                                                                                                                                                                                                                                                                                                                                                                                                                                                                                                                                                                                                                                                                                                                                                                                                                                                                                                                                                                                                                                                                                                                                                                                                                                                                                                                                                                                                                                                                                                                                                                                                                                                                                                                                                                                                                                                                                                                                                                                                                                                                                                                                                                                                                                                                                                                                                                                                                                                                                                                                                                                                                                                                                                                                                                                                                                                                                                                                                                                                                                                                                                                                                         69023\n",
              "[{'giver_coin_reward': 0, 'subreddit_id': None, 'is_new': False, 'days_of_drip_extension': 0, 'coin_price': 50, 'id': 'award_f575b116-dcdb-43ac-9d88-63fd852fd62c', 'penny_donate': 0, 'coin_reward': 0, 'icon_url': 'https://i.redd.it/award_images/t5_22cerq/o7waqzf7aim41_Sliceof.png', 'days_of_premium': 0, 'icon_height': 2048, 'resized_icons': [{'url': 'https://preview.redd.it/award_images/t5_22cerq/o7waqzf7aim41_Sliceof.png?width=16&height=16&auto=webp&s=d7f77332f32c1445ca870efbda3b97f4c2755561', 'width': 16, 'height': 16}, {'url': 'https://preview.redd.it/award_images/t5_22cerq/o7waqzf7aim41_Sliceof.png?width=32&height=32&auto=webp&s=36445302b80f7220096a76603d0a1ee4ed754a1f', 'width': 32, 'height': 32}, {'url': 'https://preview.redd.it/award_images/t5_22cerq/o7waqzf7aim41_Sliceof.png?width=48&height=48&auto=webp&s=a969a548fc13b8d48384ea693a2b925b01c21c16', 'width': 48, 'height': 48}, {'url': 'https://preview.redd.it/award_images/t5_22cerq/o7waqzf7aim41_Sliceof.png?width=64&height=64&auto=webp&s=c115288ead9253c91a095820ea0b1d1340f8946f', 'width': 64, 'height': 64}, {'url': 'https://preview.redd.it/award_images/t5_22cerq/o7waqzf7aim41_Sliceof.png?width=128&height=128&auto=webp&s=40d8897a6011fc5f89152b77417e33618e7d3f74', 'width': 128, 'height': 128}], 'icon_width': 2048, 'start_date': None, 'is_enabled': False, 'description': 'Pi makes everybody happy. Happy Pi Day!', 'end_date': None, 'subreddit_coin_reward': 0, 'count': 1, 'name': 'Slice of π', 'icon_format': 'PNG', 'award_sub_type': 'GLOBAL', 'penny_price': 0, 'award_type': 'global'}]                                                                                                                                                                                                                                                                                                                                                                                                                                                                                                                                                                                                                                                                                                                                                                                                                                                                                                                                                                                                                                                                                                                                                                                                                                                                                                                                                                                                                                                                                                                                                                                                                                                                                                                                                                                                                                                                                                                                                                                                                                                                                                                                                                                                                                                                                                                                                                                                                                                                                                                                                                                                                                                                                                                                                                                                                                                                                                                                                                                                                                                                                                                                                                                                                                                                                                                                                                                                                                                     126\n",
              "[{'giver_coin_reward': None, 'subreddit_id': None, 'is_new': False, 'days_of_drip_extension': 0, 'coin_price': 100, 'id': 'gid_1', 'penny_donate': None, 'award_sub_type': 'GLOBAL', 'coin_reward': 0, 'icon_url': 'https://www.redditstatic.com/gold/awards/icon/silver_512.png', 'days_of_premium': 0, 'resized_icons': [{'url': 'https://www.redditstatic.com/gold/awards/icon/silver_16.png', 'width': 16, 'height': 16}, {'url': 'https://www.redditstatic.com/gold/awards/icon/silver_32.png', 'width': 32, 'height': 32}, {'url': 'https://www.redditstatic.com/gold/awards/icon/silver_48.png', 'width': 48, 'height': 48}, {'url': 'https://www.redditstatic.com/gold/awards/icon/silver_64.png', 'width': 64, 'height': 64}, {'url': 'https://www.redditstatic.com/gold/awards/icon/silver_128.png', 'width': 128, 'height': 128}], 'icon_width': 512, 'static_icon_width': 512, 'start_date': None, 'is_enabled': True, 'description': \"Shows the Silver Award... and that's it.\", 'end_date': None, 'subreddit_coin_reward': 0, 'count': 1, 'static_icon_height': 512, 'name': 'Silver', 'resized_static_icons': [{'url': 'https://www.redditstatic.com/gold/awards/icon/silver_16.png', 'width': 16, 'height': 16}, {'url': 'https://www.redditstatic.com/gold/awards/icon/silver_32.png', 'width': 32, 'height': 32}, {'url': 'https://www.redditstatic.com/gold/awards/icon/silver_48.png', 'width': 48, 'height': 48}, {'url': 'https://www.redditstatic.com/gold/awards/icon/silver_64.png', 'width': 64, 'height': 64}, {'url': 'https://www.redditstatic.com/gold/awards/icon/silver_128.png', 'width': 128, 'height': 128}], 'icon_format': None, 'icon_height': 512, 'penny_price': None, 'award_type': 'global', 'static_icon_url': 'https://www.redditstatic.com/gold/awards/icon/silver_512.png'}]                                                                                                                                                                                                                                                                                                                                                                                                                                                                                                                                                                                                                                                                                                                                                                                                                                                                                                                                                                                                                                                                                                                                                                                                                                                                                                                                                                                                                                                                                                                                                                                                                                                                                                                                                                                                                                                                                                                                                                                                                                                                                                                                                                                                                                                                                                                                                                                                                                                                                                                                                                                                                                                                                                                                                                                                                                                                                                                                                                                                                                                                                                                                                                                                                                                   117\n",
              "[{'giver_coin_reward': None, 'subreddit_id': None, 'is_new': False, 'days_of_drip_extension': 0, 'coin_price': 100, 'id': 'gid_1', 'penny_donate': None, 'coin_reward': 0, 'icon_url': 'https://www.redditstatic.com/gold/awards/icon/silver_512.png', 'days_of_premium': 0, 'icon_height': 512, 'resized_icons': [{'url': 'https://www.redditstatic.com/gold/awards/icon/silver_16.png', 'width': 16, 'height': 16}, {'url': 'https://www.redditstatic.com/gold/awards/icon/silver_32.png', 'width': 32, 'height': 32}, {'url': 'https://www.redditstatic.com/gold/awards/icon/silver_48.png', 'width': 48, 'height': 48}, {'url': 'https://www.redditstatic.com/gold/awards/icon/silver_64.png', 'width': 64, 'height': 64}, {'url': 'https://www.redditstatic.com/gold/awards/icon/silver_128.png', 'width': 128, 'height': 128}], 'icon_width': 512, 'start_date': None, 'is_enabled': True, 'description': \"Shows the Silver Award... and that's it.\", 'end_date': None, 'subreddit_coin_reward': 0, 'count': 1, 'name': 'Silver', 'icon_format': None, 'award_sub_type': 'GLOBAL', 'penny_price': None, 'award_type': 'global'}]                                                                                                                                                                                                                                                                                                                                                                                                                                                                                                                                                                                                                                                                                                                                                                                                                                                                                                                                                                                                                                                                                                                                                                                                                                                                                                                                                                                                                                                                                                                                                                                                                                                                                                                                                                                                                                                                                                                                                                                                                                                                                                                                                                                                                                                                                                                                                                                                                                                                                                                                                                                                                                                                                                                                                                                                                                                                                                                                                                                                                                                                                                                                                                                                                                                                                                                                                                                                                                                                                                                                                                                                                                                                                                                                                                                                                                                                                                                                        97\n",
              "[{'giver_coin_reward': None, 'subreddit_id': None, 'is_new': False, 'days_of_drip_extension': 0, 'coin_price': 500, 'id': 'gid_2', 'penny_donate': None, 'coin_reward': 100, 'icon_url': 'https://www.redditstatic.com/gold/awards/icon/gold_512.png', 'days_of_premium': 7, 'icon_height': 512, 'resized_icons': [{'url': 'https://www.redditstatic.com/gold/awards/icon/gold_16.png', 'width': 16, 'height': 16}, {'url': 'https://www.redditstatic.com/gold/awards/icon/gold_32.png', 'width': 32, 'height': 32}, {'url': 'https://www.redditstatic.com/gold/awards/icon/gold_48.png', 'width': 48, 'height': 48}, {'url': 'https://www.redditstatic.com/gold/awards/icon/gold_64.png', 'width': 64, 'height': 64}, {'url': 'https://www.redditstatic.com/gold/awards/icon/gold_128.png', 'width': 128, 'height': 128}], 'icon_width': 512, 'start_date': None, 'is_enabled': True, 'description': 'Gives the author a week of Reddit Premium, %{coin_symbol}100 Coins to do with as they please, and shows a Gold Award.', 'end_date': None, 'subreddit_coin_reward': 0, 'count': 1, 'name': 'Gold', 'icon_format': None, 'award_sub_type': 'GLOBAL', 'penny_price': None, 'award_type': 'global'}]                                                                                                                                                                                                                                                                                                                                                                                                                                                                                                                                                                                                                                                                                                                                                                                                                                                                                                                                                                                                                                                                                                                                                                                                                                                                                                                                                                                                                                                                                                                                                                                                                                                                                                                                                                                                                                                                                                                                                                                                                                                                                                                                                                                                                                                                                                                                                                                                                                                                                                                                                                                                                                                                                                                                                                                                                                                                                                                                                                                                                                                                                                                                                                                                                                                                                                                                                                                                                                                                                                                                                                                                                                                                                                                                                                                                                                                                       37\n",
              "                                                                                                                                                                                                                                                                                                                                                                                                                                                                                                                                                                                                                                                                                                                                                                                                                                                                                                                                                                                                                                                                                                                                                                                                                                                                                                                                                                                                                                                                                                                                                                                                                                                                                                                                                                                                                                                                                                                                                                                                                                                                                                                                                                                                                                                                                                                                                                                                                                                                                                                                                                                                                                                                                                                                                                                                                                                                                                                                                                                                                                                                                                                                                                                                                                                                                                                                                                                                                                                                                                                                                                                                                                                                                                                                                                                                                                                                                                                                                                                                                                                                                                                                                                                                                                                                                                                                                                                                                                                                                                                                                                                                                                                                                                                                                                                                                                                                                                                                                                                                                                                                           ...  \n",
              "[{'giver_coin_reward': None, 'subreddit_id': None, 'is_new': False, 'days_of_drip_extension': 0, 'coin_price': 100, 'id': 'gid_1', 'penny_donate': None, 'coin_reward': 0, 'icon_url': 'https://www.redditstatic.com/gold/awards/icon/silver_512.png', 'days_of_premium': 0, 'icon_height': 512, 'resized_icons': [{'url': 'https://www.redditstatic.com/gold/awards/icon/silver_16.png', 'width': 16, 'height': 16}, {'url': 'https://www.redditstatic.com/gold/awards/icon/silver_32.png', 'width': 32, 'height': 32}, {'url': 'https://www.redditstatic.com/gold/awards/icon/silver_48.png', 'width': 48, 'height': 48}, {'url': 'https://www.redditstatic.com/gold/awards/icon/silver_64.png', 'width': 64, 'height': 64}, {'url': 'https://www.redditstatic.com/gold/awards/icon/silver_128.png', 'width': 128, 'height': 128}], 'icon_width': 512, 'start_date': None, 'is_enabled': True, 'description': \"Shows the Silver Award... and that's it.\", 'end_date': None, 'subreddit_coin_reward': 0, 'count': 2, 'name': 'Silver', 'icon_format': None, 'award_sub_type': 'GLOBAL', 'penny_price': None, 'award_type': 'global'}, {'giver_coin_reward': 0, 'subreddit_id': None, 'is_new': False, 'days_of_drip_extension': 0, 'coin_price': 50, 'id': 'award_f575b116-dcdb-43ac-9d88-63fd852fd62c', 'penny_donate': 0, 'coin_reward': 0, 'icon_url': 'https://i.redd.it/award_images/t5_22cerq/o7waqzf7aim41_Sliceof.png', 'days_of_premium': 0, 'icon_height': 2048, 'resized_icons': [{'url': 'https://preview.redd.it/award_images/t5_22cerq/o7waqzf7aim41_Sliceof.png?width=16&height=16&auto=webp&s=d7f77332f32c1445ca870efbda3b97f4c2755561', 'width': 16, 'height': 16}, {'url': 'https://preview.redd.it/award_images/t5_22cerq/o7waqzf7aim41_Sliceof.png?width=32&height=32&auto=webp&s=36445302b80f7220096a76603d0a1ee4ed754a1f', 'width': 32, 'height': 32}, {'url': 'https://preview.redd.it/award_images/t5_22cerq/o7waqzf7aim41_Sliceof.png?width=48&height=48&auto=webp&s=a969a548fc13b8d48384ea693a2b925b01c21c16', 'width': 48, 'height': 48}, {'url': 'https://preview.redd.it/award_images/t5_22cerq/o7waqzf7aim41_Sliceof.png?width=64&height=64&auto=webp&s=c115288ead9253c91a095820ea0b1d1340f8946f', 'width': 64, 'height': 64}, {'url': 'https://preview.redd.it/award_images/t5_22cerq/o7waqzf7aim41_Sliceof.png?width=128&height=128&auto=webp&s=40d8897a6011fc5f89152b77417e33618e7d3f74', 'width': 128, 'height': 128}], 'icon_width': 2048, 'start_date': None, 'is_enabled': False, 'description': 'Pi makes everybody happy. Happy Pi Day!', 'end_date': None, 'subreddit_coin_reward': 0, 'count': 1, 'name': 'Slice of π', 'icon_format': 'PNG', 'award_sub_type': 'GLOBAL', 'penny_price': 0, 'award_type': 'global'}]                                                                                                                                                                                                                                                                                                                                                                                                                                                                                                                                                                                                                                                                                                                                                                                                                                                                                                                                                                                                                                                                                                                                                                                                                                                                                                                                                                                                                                                                                                                                                                                                                                                                                                                                                                                                                                                                                                                                                                                                                                                                                                                                                                                                                                                                                                                 1\n",
              "[{'giver_coin_reward': None, 'subreddit_id': None, 'is_new': False, 'days_of_drip_extension': 0, 'coin_price': 500, 'id': 'gid_2', 'penny_donate': None, 'coin_reward': 100, 'icon_url': 'https://www.redditstatic.com/gold/awards/icon/gold_512.png', 'days_of_premium': 7, 'icon_height': 512, 'resized_icons': [{'url': 'https://www.redditstatic.com/gold/awards/icon/gold_16.png', 'width': 16, 'height': 16}, {'url': 'https://www.redditstatic.com/gold/awards/icon/gold_32.png', 'width': 32, 'height': 32}, {'url': 'https://www.redditstatic.com/gold/awards/icon/gold_48.png', 'width': 48, 'height': 48}, {'url': 'https://www.redditstatic.com/gold/awards/icon/gold_64.png', 'width': 64, 'height': 64}, {'url': 'https://www.redditstatic.com/gold/awards/icon/gold_128.png', 'width': 128, 'height': 128}], 'icon_width': 512, 'start_date': None, 'is_enabled': True, 'description': 'Gives the author a week of Reddit Premium, %{coin_symbol}100 Coins to do with as they please, and shows a Gold Award.', 'end_date': None, 'subreddit_coin_reward': 0, 'count': 1, 'name': 'Gold', 'icon_format': None, 'award_sub_type': 'GLOBAL', 'penny_price': None, 'award_type': 'global'}, {'giver_coin_reward': None, 'subreddit_id': None, 'is_new': False, 'days_of_drip_extension': 0, 'coin_price': 150, 'id': 'award_88fdcafc-57a0-48db-99cc-76276bfaf28b', 'penny_donate': None, 'coin_reward': 0, 'icon_url': 'https://i.redd.it/award_images/t5_22cerq/tcofsbf92md41_PressF.png', 'days_of_premium': 0, 'icon_height': 2048, 'resized_icons': [{'url': 'https://preview.redd.it/award_images/t5_22cerq/tcofsbf92md41_PressF.png?width=16&height=16&auto=webp&s=3481c2a89c2ebe653aae1b8d627c20c10abfc79e', 'width': 16, 'height': 16}, {'url': 'https://preview.redd.it/award_images/t5_22cerq/tcofsbf92md41_PressF.png?width=32&height=32&auto=webp&s=2bd2b8a9417e7cc18752927c11f98b242c133f2f', 'width': 32, 'height': 32}, {'url': 'https://preview.redd.it/award_images/t5_22cerq/tcofsbf92md41_PressF.png?width=48&height=48&auto=webp&s=a34e3d83c5dd9f6c731b1375500e4de8d4fee652', 'width': 48, 'height': 48}, {'url': 'https://preview.redd.it/award_images/t5_22cerq/tcofsbf92md41_PressF.png?width=64&height=64&auto=webp&s=6525899b9a01d5b0c4deea6c34cd8436ee1ff0c7', 'width': 64, 'height': 64}, {'url': 'https://preview.redd.it/award_images/t5_22cerq/tcofsbf92md41_PressF.png?width=128&height=128&auto=webp&s=c9e094023649693de991fff551a0c9561d11163a', 'width': 128, 'height': 128}], 'icon_width': 2048, 'start_date': None, 'is_enabled': True, 'description': 'To pay respects.', 'end_date': None, 'subreddit_coin_reward': 0, 'count': 1, 'name': 'Press F', 'icon_format': None, 'award_sub_type': 'GLOBAL', 'penny_price': None, 'award_type': 'global'}, {'giver_coin_reward': None, 'subreddit_id': None, 'is_new': False, 'days_of_drip_extension': 0, 'coin_price': 100, 'id': 'gid_1', 'penny_donate': None, 'coin_reward': 0, 'icon_url': 'https://www.redditstatic.com/gold/awards/icon/silver_512.png', 'days_of_premium': 0, 'icon_height': 512, 'resized_icons': [{'url': 'https://www.redditstatic.com/gold/awards/icon/silver_16.png', 'width': 16, 'height': 16}, {'url': 'https://www.redditstatic.com/gold/awards/icon/silver_32.png', 'width': 32, 'height': 32}, {'url': 'https://www.redditstatic.com/gold/awards/icon/silver_48.png', 'width': 48, 'height': 48}, {'url': 'https://www.redditstatic.com/gold/awards/icon/silver_64.png', 'width': 64, 'height': 64}, {'url': 'https://www.redditstatic.com/gold/awards/icon/silver_128.png', 'width': 128, 'height': 128}], 'icon_width': 512, 'start_date': None, 'is_enabled': True, 'description': \"Shows the Silver Award... and that's it.\", 'end_date': None, 'subreddit_coin_reward': 0, 'count': 1, 'name': 'Silver', 'icon_format': None, 'award_sub_type': 'GLOBAL', 'penny_price': None, 'award_type': 'global'}]                                                                                                                                                                                                                                                                                                                                                                                                                                                                                                                                                                                                                                                                                                                                                                                                                                                                                                                                                                                                                                                                                                                                  1\n",
              "[{'giver_coin_reward': None, 'subreddit_id': None, 'is_new': False, 'days_of_drip_extension': 0, 'coin_price': 250, 'id': 'award_9583d210-a7d0-4f3c-b0c7-369ad579d3d4', 'penny_donate': None, 'coin_reward': 100, 'icon_url': 'https://i.redd.it/award_images/t5_22cerq/wa987k0p4v541_MindBlown.png', 'days_of_premium': 0, 'icon_height': 2048, 'resized_icons': [{'url': 'https://preview.redd.it/award_images/t5_22cerq/wa987k0p4v541_MindBlown.png?width=16&height=16&auto=webp&s=3429167a3ea031ab4a4574baf47b2140c7b59aa8', 'width': 16, 'height': 16}, {'url': 'https://preview.redd.it/award_images/t5_22cerq/wa987k0p4v541_MindBlown.png?width=32&height=32&auto=webp&s=835353c87c6a5d516662bb681d0d50647e7ab44f', 'width': 32, 'height': 32}, {'url': 'https://preview.redd.it/award_images/t5_22cerq/wa987k0p4v541_MindBlown.png?width=48&height=48&auto=webp&s=a925fdb8ed532e7261b0dbc820e691423cba8ee6', 'width': 48, 'height': 48}, {'url': 'https://preview.redd.it/award_images/t5_22cerq/wa987k0p4v541_MindBlown.png?width=64&height=64&auto=webp&s=1d86da7e5837d52fec767aeb6a762caff5f7cef0', 'width': 64, 'height': 64}, {'url': 'https://preview.redd.it/award_images/t5_22cerq/wa987k0p4v541_MindBlown.png?width=128&height=128&auto=webp&s=e3254651db548741c58f331e91395b55a557573d', 'width': 128, 'height': 128}], 'icon_width': 2048, 'start_date': None, 'is_enabled': True, 'description': 'When a thing immediately combusts your brain. Gives %{coin_symbol}100 Coins to both the author and the community.', 'end_date': None, 'subreddit_coin_reward': 100, 'count': 1, 'name': 'Mind Blown', 'icon_format': None, 'award_sub_type': 'APPRECIATION', 'penny_price': None, 'award_type': 'global'}, {'giver_coin_reward': None, 'subreddit_id': None, 'is_new': False, 'days_of_drip_extension': 0, 'coin_price': 100, 'id': 'gid_1', 'penny_donate': None, 'coin_reward': 0, 'icon_url': 'https://www.redditstatic.com/gold/awards/icon/silver_512.png', 'days_of_premium': 0, 'icon_height': 512, 'resized_icons': [{'url': 'https://www.redditstatic.com/gold/awards/icon/silver_16.png', 'width': 16, 'height': 16}, {'url': 'https://www.redditstatic.com/gold/awards/icon/silver_32.png', 'width': 32, 'height': 32}, {'url': 'https://www.redditstatic.com/gold/awards/icon/silver_48.png', 'width': 48, 'height': 48}, {'url': 'https://www.redditstatic.com/gold/awards/icon/silver_64.png', 'width': 64, 'height': 64}, {'url': 'https://www.redditstatic.com/gold/awards/icon/silver_128.png', 'width': 128, 'height': 128}], 'icon_width': 512, 'start_date': None, 'is_enabled': True, 'description': \"Shows the Silver Award... and that's it.\", 'end_date': None, 'subreddit_coin_reward': 0, 'count': 1, 'name': 'Silver', 'icon_format': None, 'award_sub_type': 'GLOBAL', 'penny_price': None, 'award_type': 'global'}]                                                                                                                                                                                                                                                                                                                                                                                                                                                                                                                                                                                                                                                                                                                                                                                                                                                                                                                                                                                                                                                                                                                                                                                                                                                                                                                                                                                                                                                                                                                                                                                                                                                                                                                                                                                                                                                                                                                                                                                                                                                                                                                                                                                                         1\n",
              "[{'giver_coin_reward': None, 'subreddit_id': None, 'is_new': False, 'days_of_drip_extension': 0, 'coin_price': 500, 'id': 'award_a9009ea5-1a36-42ae-aab2-5967563ee054', 'penny_donate': None, 'coin_reward': 100, 'icon_url': 'https://i.redd.it/award_images/t5_22cerq/12kz7a7j4v541_HeartEyes.png', 'days_of_premium': 0, 'icon_height': 2048, 'resized_icons': [{'url': 'https://preview.redd.it/award_images/t5_22cerq/12kz7a7j4v541_HeartEyes.png?width=16&height=16&auto=webp&s=21b239c2651fdcd5e4ee548e77dbff1ebad022ad', 'width': 16, 'height': 16}, {'url': 'https://preview.redd.it/award_images/t5_22cerq/12kz7a7j4v541_HeartEyes.png?width=32&height=32&auto=webp&s=87f32b8a785567fb34816e70ced5dc6c63180eaa', 'width': 32, 'height': 32}, {'url': 'https://preview.redd.it/award_images/t5_22cerq/12kz7a7j4v541_HeartEyes.png?width=48&height=48&auto=webp&s=c6bd29e6c9c8952a0f3135058ee8e3358b6d0bb7', 'width': 48, 'height': 48}, {'url': 'https://preview.redd.it/award_images/t5_22cerq/12kz7a7j4v541_HeartEyes.png?width=64&height=64&auto=webp&s=9aa7d94eab8fd4af67b7d0e7ec817861df5994cb', 'width': 64, 'height': 64}, {'url': 'https://preview.redd.it/award_images/t5_22cerq/12kz7a7j4v541_HeartEyes.png?width=128&height=128&auto=webp&s=026bc9bbd63b1225b3bbd269d231894ae40d323e', 'width': 128, 'height': 128}], 'icon_width': 2048, 'start_date': None, 'is_enabled': True, 'description': 'For love at first sight. Gives %{coin_symbol}100 Coins to both the author and the community.', 'end_date': None, 'subreddit_coin_reward': 100, 'count': 1, 'name': 'Heart Eyes', 'icon_format': None, 'award_sub_type': 'APPRECIATION', 'penny_price': None, 'award_type': 'global'}, {'giver_coin_reward': None, 'subreddit_id': None, 'is_new': False, 'days_of_drip_extension': 0, 'coin_price': 250, 'id': 'award_a67d649d-5aa5-407e-a98b-32fd9e3a9696', 'penny_donate': None, 'coin_reward': 100, 'icon_url': 'https://i.redd.it/award_images/t5_22cerq/bph2png4ajz31_TodayILearned.png', 'days_of_premium': 0, 'icon_height': 2048, 'resized_icons': [{'url': 'https://preview.redd.it/award_images/t5_22cerq/bph2png4ajz31_TodayILearned.png?width=16&height=16&auto=webp&s=bbfa251092cce139b37d74237ec28a8c4e8f06b0', 'width': 16, 'height': 16}, {'url': 'https://preview.redd.it/award_images/t5_22cerq/bph2png4ajz31_TodayILearned.png?width=32&height=32&auto=webp&s=e1f9dd28741e2551b1fbbd341b006cc316f48fa1', 'width': 32, 'height': 32}, {'url': 'https://preview.redd.it/award_images/t5_22cerq/bph2png4ajz31_TodayILearned.png?width=48&height=48&auto=webp&s=d93434d26563a534397ff748cce71d4b733c32d9', 'width': 48, 'height': 48}, {'url': 'https://preview.redd.it/award_images/t5_22cerq/bph2png4ajz31_TodayILearned.png?width=64&height=64&auto=webp&s=cf4a1ddb8474d11682f0d88aa32562f9fcbf30b0', 'width': 64, 'height': 64}, {'url': 'https://preview.redd.it/award_images/t5_22cerq/bph2png4ajz31_TodayILearned.png?width=128&height=128&auto=webp&s=70b1596cdd0ae75b52db5c2732d8c336d300cc11', 'width': 128, 'height': 128}], 'icon_width': 2048, 'start_date': None, 'is_enabled': True, 'description': 'The more you know... Gives %{coin_symbol}100 Coins to both the author and the community.', 'end_date': None, 'subreddit_coin_reward': 100, 'count': 1, 'name': 'Today I Learned', 'icon_format': None, 'award_sub_type': 'APPRECIATION', 'penny_price': None, 'award_type': 'global'}, {'giver_coin_reward': 0, 'subreddit_id': None, 'is_new': False, 'days_of_drip_extension': 0, 'coin_price': 50, 'id': 'award_f575b116-dcdb-43ac-9d88-63fd852fd62c', 'penny_donate': 0, 'coin_reward': 0, 'icon_url': 'https://i.redd.it/award_images/t5_22cerq/o7waqzf7aim41_Sliceof.png', 'days_of_premium': 0, 'icon_height': 2048, 'resized_icons': [{'url': 'https://preview.redd.it/award_images/t5_22cerq/o7waqzf7aim41_Sliceof.png?width=16&height=16&auto=webp&s=d7f77332f32c1445ca870efbda3b97f4c2755561', 'width': 16, 'height': 16}, {'url': 'https://preview.redd.it/award_images/t5_22cerq/o7waqzf7aim41_Sliceof.png?width=32&height=32&auto=webp&s=36445302b80f7220096a76603d0a1ee4ed754a1f', 'width': 32, 'height': 32}, {'url': 'https://preview.redd.it/award_images/t5_22cerq/o7waqzf7aim41_Sliceof.png?width=48&height=48&auto=webp&s=a969a548fc13b8d48384ea693a2b925b01c21c16', 'width': 48, 'height': 48}, {'url': 'https://preview.redd.it/award_images/t5_22cerq/o7waqzf7aim41_Sliceof.png?width=64&height=64&auto=webp&s=c115288ead9253c91a095820ea0b1d1340f8946f', 'width': 64, 'height': 64}, {'url': 'https://preview.redd.it/award_images/t5_22cerq/o7waqzf7aim41_Sliceof.png?width=128&height=128&auto=webp&s=40d8897a6011fc5f89152b77417e33618e7d3f74', 'width': 128, 'height': 128}], 'icon_width': 2048, 'start_date': None, 'is_enabled': False, 'description': 'Pi makes everybody happy. Happy Pi Day!', 'end_date': None, 'subreddit_coin_reward': 0, 'count': 1, 'name': 'Slice of π', 'icon_format': 'PNG', 'award_sub_type': 'GLOBAL', 'penny_price': 0, 'award_type': 'global'}]        1\n",
              "[{'giver_coin_reward': None, 'subreddit_id': 't5_2qjpg', 'is_new': False, 'days_of_drip_extension': 0, 'coin_price': 500, 'id': 'award_a0f9a2fb-95c1-4a0b-a153-f16542bdce43', 'penny_donate': None, 'coin_reward': 0, 'icon_url': 'https://i.redd.it/award_images/t5_2qjpg/ro2h2qc113i31_HighQualityMeme.png', 'days_of_premium': 0, 'icon_height': 512, 'resized_icons': [{'url': 'https://preview.redd.it/award_images/t5_2qjpg/ro2h2qc113i31_HighQualityMeme.png?width=16&height=16&auto=webp&s=cc02cce0de03c4a1c41b131f0f6aab10070e5a2a', 'width': 16, 'height': 16}, {'url': 'https://preview.redd.it/award_images/t5_2qjpg/ro2h2qc113i31_HighQualityMeme.png?width=32&height=32&auto=webp&s=95be2ba82d0432df0d8e18fcae7d1bbba8509b01', 'width': 32, 'height': 32}, {'url': 'https://preview.redd.it/award_images/t5_2qjpg/ro2h2qc113i31_HighQualityMeme.png?width=48&height=48&auto=webp&s=f4b0526d6dc6258f391ae57c8442af715f7d25e3', 'width': 48, 'height': 48}, {'url': 'https://preview.redd.it/award_images/t5_2qjpg/ro2h2qc113i31_HighQualityMeme.png?width=64&height=64&auto=webp&s=7f5ff429c26169c4841d4e56f20336bc41aa1c3a', 'width': 64, 'height': 64}, {'url': 'https://preview.redd.it/award_images/t5_2qjpg/ro2h2qc113i31_HighQualityMeme.png?width=128&height=128&auto=webp&s=9e5f5ae73a7c3db1422a703eee716fe0a2915db4', 'width': 128, 'height': 128}], 'icon_width': 512, 'start_date': None, 'is_enabled': True, 'description': 'Shows the High Quality Meme Award and grants %{coin_symbol}100 Coins to the community. Exclusive to this community.', 'end_date': None, 'subreddit_coin_reward': 100, 'count': 1, 'name': 'High Quality Meme', 'icon_format': None, 'award_sub_type': 'COMMUNITY', 'penny_price': None, 'award_type': 'community'}]                                                                                                                                                                                                                                                                                                                                                                                                                                                                                                                                                                                                                                                                                                                                                                                                                                                                                                                                                                                                                                                                                                                                                                                                                                                                                                                                                                                                                                                                                                                                                                                                                                                                                                                                                                                                                                                                                                                                                                                                                                                                                                                                                                                                                                                                                                                                                                                                                                                                                                                                                                                                                                                                                                                                                                                                                                                                                                                                                                                                                                                                                                                                                                                                                                                                                                      1\n",
              "Name: awards, Length: 266, dtype: int64"
            ]
          },
          "metadata": {
            "tags": []
          },
          "execution_count": 226
        }
      ]
    },
    {
      "cell_type": "markdown",
      "metadata": {
        "id": "pX4jEM2Xr_ca"
      },
      "source": [
        "Having been on Reddit for some years, I recognize this table, it represents the list of awards given by Redditors to the post owner, there are different categories each with its value and icon (they cost money that's why you don't see much of them).\n",
        "\n",
        "In our use case, this column can't be used in any form considering that the poster can't adapt this parameter (at least in a simple form, I mean you could always use other accounts to *reward* yourself which could influence the visitors to value higher your post but this is outside of the scope of the project)"
      ]
    },
    {
      "cell_type": "markdown",
      "metadata": {
        "id": "tMnXj_HBt6r4"
      },
      "source": [
        "### processed_words"
      ]
    },
    {
      "cell_type": "markdown",
      "metadata": {
        "id": "VPEB2YFsuAsb"
      },
      "source": [
        "\"filtered and stemmed words from title and image\""
      ]
    },
    {
      "cell_type": "markdown",
      "metadata": {
        "id": "RwsiDgL7wBa2"
      },
      "source": [
        "Let's see what are the most frequente words:"
      ]
    },
    {
      "cell_type": "code",
      "metadata": {
        "colab": {
          "base_uri": "https://localhost:8080/"
        },
        "id": "GoIh1630p2xL",
        "outputId": "ec2a512b-1ca0-4c70-94af-b5164e7cfbe3"
      },
      "source": [
        "pool_words = []\n",
        "for element in reddit_memes_postes[\"processed_words\"]:\n",
        "  try:\n",
        "    pool_words.extend(ast.literal_eval(element))\n",
        "  except:\n",
        "      continue\n",
        "\n",
        "n = 20\n",
        "b_pool_words = Counter(pool_words)\n",
        "keys, values = [element[0] for element in b_pool_words.most_common(n)], [element[1] for element in b_pool_words.most_common(n)]\n",
        "\n",
        "plt.figure(figsize=(20,5))\n",
        "plt.barh(keys, values)\n",
        "\n",
        "print(\"We have\", str(len(np.unique(pool_words))), \"unique tokens.\")\n",
        "print(\"The\", str(n), \"tokens represente\", str(round(sum(values)/len(pool_words)*100,2)), '% of the values.')"
      ],
      "execution_count": null,
      "outputs": [
        {
          "output_type": "stream",
          "text": [
            "We have 80325 unique tokens.\n",
            "The 20 tokens represente 12.94 % of the values.\n"
          ],
          "name": "stdout"
        },
        {
          "output_type": "display_data",
          "data": {
            "image/png": "[encoded data removed]",
            "text/plain": [
              "<Figure size 1440x360 with 1 Axes>"
            ]
          },
          "metadata": {
            "tags": [],
            "needs_background": "light"
          }
        }
      ]
    },
    {
      "cell_type": "markdown",
      "metadata": {
        "id": "cVJDO9Gg5zHs"
      },
      "source": [
        "### Time"
      ]
    },
    {
      "cell_type": "markdown",
      "metadata": {
        "id": "O4J9ccXQ38FD"
      },
      "source": [
        "The categories need some cleaning before being used in a meaningful way:\n",
        "*   assemble synonyms, ex: corona+covid+coronavirus must be made into one category (making the most frequent token).\n",
        "*   Reduce the number of categories by clustering them into meaningful groups after using NLP methods.\n",
        "\n"
      ]
    },
    {
      "cell_type": "markdown",
      "metadata": {
        "id": "cD_au4bPy1Y5"
      },
      "source": [
        "#### created_utc"
      ]
    },
    {
      "cell_type": "markdown",
      "metadata": {
        "id": "t-VNIDg750wI"
      },
      "source": [
        "created_utc: \"utc timestamp of post submission\"\n",
        "\n"
      ]
    },
    {
      "cell_type": "markdown",
      "metadata": {
        "id": "rZ5ZNbVA597U"
      },
      "source": [
        "As already showen:"
      ]
    },
    {
      "cell_type": "code",
      "metadata": {
        "colab": {
          "base_uri": "https://localhost:8080/"
        },
        "id": "BxhHoj-FNeq5",
        "outputId": "8e86706d-a1ad-43ec-9c5d-11002b3854f3"
      },
      "source": [
        "from datetime import datetime\n",
        "\n",
        "created_utc_min = datetime.utcfromtimestamp(reddit_memes_postes[\"created_utc\"].min()).strftime('%Y-%m-%d %H:%M:%S')\n",
        "created_utc_max = datetime.utcfromtimestamp(reddit_memes_postes[\"created_utc\"].max()).strftime('%Y-%m-%d %H:%M:%S')\n",
        "print(\"from:\", created_utc_min)\n",
        "print(\"to:\", created_utc_max)"
      ],
      "execution_count": null,
      "outputs": [
        {
          "output_type": "stream",
          "text": [
            "from: 2020-03-13 23:17:47\n",
            "to: 2020-03-23 04:59:45\n"
          ],
          "name": "stdout"
        }
      ]
    },
    {
      "cell_type": "markdown",
      "metadata": {
        "id": "BrHyMCBF6HJy"
      },
      "source": [
        "considering the data was scraped in about 20 days, the influence of the evolution of the number of community subscribers by time is minimal.\n",
        "This is why we will discard it "
      ]
    },
    {
      "cell_type": "markdown",
      "metadata": {
        "id": "uusFnU8iy5hK"
      },
      "source": [
        "#### time_of_day"
      ]
    },
    {
      "cell_type": "markdown",
      "metadata": {
        "id": "KcxBlkT140P3"
      },
      "source": [
        "time_of_day: discretized time of day in 4 hour increments [0-4, 5-8, 9-12, 13-16, 17-20, 21-24]"
      ]
    },
    {
      "cell_type": "markdown",
      "metadata": {
        "id": "MvUQRVpO1_8K"
      },
      "source": [
        "the hour part is better captured by the *time_of_day* variable (it is more robust).\n",
        "\n"
      ]
    },
    {
      "cell_type": "code",
      "metadata": {
        "colab": {
          "base_uri": "https://localhost:8080/"
        },
        "id": "rtlPv1jo8d7X",
        "outputId": "e70354a6-0ef7-4d68-e0e5-9c9e9b5fd5a1"
      },
      "source": [
        "reddit_memes_postes.loc[:,'time_of_day'] = reddit_memes_postes['time_of_day'].astype(\"str\")\n",
        "reddit_memes_postes['time_of_day'] = reddit_memes_postes['time_of_day'].replace(['nan'], np.nan)\n",
        "\n",
        "time_of_day = {\n",
        "    \"0.0\":\"0h-4h\",\n",
        "    \"1.0\":\"5h-8h\",\n",
        "    \"2.0\":\"9h-12h\",\n",
        "    \"3.0\":\"13h-16h\",\n",
        "    \"4.0\":\"17h-20h\",\n",
        "    \"5.0\":\"21h-0h\"\n",
        "}\n",
        "x = [time_of_day[value] for value in reddit_memes_postes[\"time_of_day\"].value_counts().index.values] \n",
        "y = list(reddit_memes_postes[\"time_of_day\"].value_counts())\n",
        "\n",
        "fig1, ax1 = plt.subplots()\n",
        "ax1.pie(y, labels=x, autopct='%1.1f%%', shadow=True, startangle=90)\n",
        "ax1.axis('equal')  \n",
        "plt.show()"
      ],
      "execution_count": null,
      "outputs": [
        {
          "output_type": "display_data",
          "data": {
            "image/png": "[encoded data removed]",
            "text/plain": [
              "<Figure size 432x288 with 1 Axes>"
            ]
          },
          "metadata": {
            "tags": []
          }
        }
      ]
    },
    {
      "cell_type": "markdown",
      "metadata": {
        "id": "9BjYVhREyyFk"
      },
      "source": [
        "#### datetime_temp"
      ]
    },
    {
      "cell_type": "markdown",
      "metadata": {
        "id": "fPxVrQQKB_Ae"
      },
      "source": [
        "As for the day in which it was posted it may seem interesting to extract it, but don't forget that we have at best 3 values for the same day of the week to be able to generalize or get any insight, so we think that the variable *created_utc* is not meaningful enough to stay."
      ]
    },
    {
      "cell_type": "markdown",
      "metadata": {
        "id": "KURE1lLB1f4T"
      },
      "source": [
        "It is an alternative representation for the created_utc, more readable for the user but less for the computer which is why we will discard it."
      ]
    },
    {
      "cell_type": "code",
      "metadata": {
        "colab": {
          "base_uri": "https://localhost:8080/"
        },
        "id": "CIFFpsJ1yMBQ",
        "outputId": "9fd904b4-03b0-4f88-84c1-5aadcd8c1d22"
      },
      "source": [
        "reddit_memes_postes[\"datetime_temp\"].head()"
      ],
      "execution_count": null,
      "outputs": [
        {
          "output_type": "execute_result",
          "data": {
            "text/plain": [
              "0    2020-03-17 18:12:42\n",
              "1    2020-03-17 18:11:06\n",
              "2    2020-03-17 18:00:44\n",
              "3    2020-03-17 17:36:24\n",
              "4    2020-03-17 17:31:35\n",
              "Name: datetime_temp, dtype: object"
            ]
          },
          "metadata": {
            "tags": []
          },
          "execution_count": 230
        }
      ]
    },
    {
      "cell_type": "markdown",
      "metadata": {
        "id": "u-8TQfPhDfPr"
      },
      "source": [
        "### is_nsfw"
      ]
    },
    {
      "cell_type": "markdown",
      "metadata": {
        "id": "B2gOXZNmDgzi"
      },
      "source": [
        "\"indicates if only suitable for 18+\""
      ]
    },
    {
      "cell_type": "markdown",
      "metadata": {
        "id": "2w-CgFHuDpGa"
      },
      "source": [
        "We expect that there are fewer NSFW posts \n",
        "\n",
        "(for non-redditors NSFW stands for Not Safe For Work, content of posts in this category is by default hidden)"
      ]
    },
    {
      "cell_type": "code",
      "metadata": {
        "colab": {
          "base_uri": "https://localhost:8080/"
        },
        "id": "N7jXp007EVLP",
        "outputId": "17eae218-eb46-4a61-d667-e6834029da27"
      },
      "source": [
        "reddit_memes_postes[\"is_nsfw\"].value_counts()"
      ],
      "execution_count": null,
      "outputs": [
        {
          "output_type": "execute_result",
          "data": {
            "text/plain": [
              "False    69709\n",
              "True       233\n",
              "Name: is_nsfw, dtype: int64"
            ]
          },
          "metadata": {
            "tags": []
          },
          "execution_count": 231
        }
      ]
    },
    {
      "cell_type": "markdown",
      "metadata": {
        "id": "X_pUYObkE5Lp"
      },
      "source": [
        "### subreddit and subscribers"
      ]
    },
    {
      "cell_type": "markdown",
      "metadata": {
        "id": "DnGWDEI9FBZG"
      },
      "source": [
        "This are the subreddits that we are studying:"
      ]
    },
    {
      "cell_type": "code",
      "metadata": {
        "colab": {
          "base_uri": "https://localhost:8080/"
        },
        "id": "vlHWksErFA0I",
        "outputId": "428d3fb3-7da2-47fd-eed6-8d038c9ed7f1"
      },
      "source": [
        "reddit_memes_postes[\"subreddit\"].hist()"
      ],
      "execution_count": null,
      "outputs": [
        {
          "output_type": "execute_result",
          "data": {
            "text/plain": [
              "<matplotlib.axes._subplots.AxesSubplot at 0x7f89bfe64bd0>"
            ]
          },
          "metadata": {
            "tags": []
          },
          "execution_count": 232
        },
        {
          "output_type": "display_data",
          "data": {
            "image/png": "[encoded data removed]",
            "text/plain": [
              "<Figure size 432x288 with 1 Axes>"
            ]
          },
          "metadata": {
            "tags": [],
            "needs_background": "light"
          }
        }
      ]
    },
    {
      "cell_type": "markdown",
      "metadata": {
        "id": "IJTe8W67FQ2I"
      },
      "source": [
        "As you can deduce from the figure, not all subreddits are represented in the same way which might cause problems later, so a good idea is to stick with the highest represented on "
      ]
    },
    {
      "cell_type": "markdown",
      "metadata": {
        "id": "3Paki9EZF3zr"
      },
      "source": [
        "as for the number of subscribers by subreddit:"
      ]
    },
    {
      "cell_type": "code",
      "metadata": {
        "colab": {
          "base_uri": "https://localhost:8080/"
        },
        "id": "Bb2Hq3JT7R8I",
        "outputId": "069b5e1f-69ba-4227-ea03-1e6411b0352d"
      },
      "source": [
        "subreddits = reddit_memes_postes[\"subreddit\"].unique()\n",
        "values = [np.mean(reddit_memes_postes[reddit_memes_postes[\"subreddit\"] == subreddit][\"subscribers\"]) for subreddit in subreddits]\n",
        "plt.bar(subreddits[:-1], values[:-1])"
      ],
      "execution_count": null,
      "outputs": [
        {
          "output_type": "execute_result",
          "data": {
            "text/plain": [
              "<BarContainer object of 5 artists>"
            ]
          },
          "metadata": {
            "tags": []
          },
          "execution_count": 233
        },
        {
          "output_type": "display_data",
          "data": {
            "image/png": "[encoded data removed]",
            "text/plain": [
              "<Figure size 432x288 with 1 Axes>"
            ]
          },
          "metadata": {
            "tags": [],
            "needs_background": "light"
          }
        }
      ]
    },
    {
      "cell_type": "markdown",
      "metadata": {
        "id": "EUkuRr7gJMCz"
      },
      "source": [
        "### thumbnail.height and thumbnail.width"
      ]
    },
    {
      "cell_type": "markdown",
      "metadata": {
        "id": "rPMBXSp1kGsU"
      },
      "source": [
        "As the name suggest they represent the width and height of the thumbnails:"
      ]
    },
    {
      "cell_type": "markdown",
      "metadata": {
        "id": "kB8W_Hbcmml0"
      },
      "source": [
        "#### thumbnail height"
      ]
    },
    {
      "cell_type": "code",
      "metadata": {
        "colab": {
          "base_uri": "https://localhost:8080/"
        },
        "id": "9A7V9NwRka37",
        "outputId": "0155b4cb-9c50-4bcb-9757-a71f38b0aeef"
      },
      "source": [
        "print(\"thumbnail height:\")\n",
        "print(reddit_memes_postes[\"thumbnail.height\"].describe())"
      ],
      "execution_count": null,
      "outputs": [
        {
          "output_type": "stream",
          "text": [
            "thumbnail height:\n",
            "count    69902.000000\n",
            "mean       125.177248\n",
            "std         21.904673\n",
            "min          9.000000\n",
            "25%        113.000000\n",
            "50%        140.000000\n",
            "75%        140.000000\n",
            "max        140.000000\n",
            "Name: thumbnail.height, dtype: float64\n"
          ],
          "name": "stdout"
        }
      ]
    },
    {
      "cell_type": "markdown",
      "metadata": {
        "id": "FzXVSYBEl2bs"
      },
      "source": [
        "it seems that the majority of posts have 140 as a height, wich is normal, reddit postes have a fixed areas for the thumbnails, if the height of the image is greater than this given one it is just cropped"
      ]
    },
    {
      "cell_type": "code",
      "metadata": {
        "colab": {
          "base_uri": "https://localhost:8080/"
        },
        "id": "inXibe_JlxX5",
        "outputId": "28a93fef-9705-4000-e3cd-f58bebcade92"
      },
      "source": [
        "reddit_memes_postes[\"thumbnail.height\"].hist()"
      ],
      "execution_count": null,
      "outputs": [
        {
          "output_type": "execute_result",
          "data": {
            "text/plain": [
              "<matplotlib.axes._subplots.AxesSubplot at 0x7f89be25c610>"
            ]
          },
          "metadata": {
            "tags": []
          },
          "execution_count": 235
        },
        {
          "output_type": "display_data",
          "data": {
            "image/png": "[encoded data removed]",
            "text/plain": [
              "<Figure size 432x288 with 1 Axes>"
            ]
          },
          "metadata": {
            "tags": [],
            "needs_background": "light"
          }
        }
      ]
    },
    {
      "cell_type": "code",
      "metadata": {
        "colab": {
          "base_uri": "https://localhost:8080/"
        },
        "id": "Qt-zt_XdlvEu",
        "outputId": "e578f762-4f5f-4d7b-9ada-ea6c49ce853b"
      },
      "source": [
        "print(\"the images with 140px in height represent\", str(round(reddit_memes_postes[\"thumbnail.height\"].value_counts()[140]/len(reddit_memes_postes[\"thumbnail.height\"])*100,2)), '% of the values.')\n"
      ],
      "execution_count": null,
      "outputs": [
        {
          "output_type": "stream",
          "text": [
            "the images with 140px in height represent 48.83 % of the values.\n"
          ],
          "name": "stdout"
        }
      ]
    },
    {
      "cell_type": "markdown",
      "metadata": {
        "id": "xWbfh3scmcvj"
      },
      "source": [
        "#### thumbnail width:"
      ]
    },
    {
      "cell_type": "markdown",
      "metadata": {
        "id": "aX-OMLvrnCpr"
      },
      "source": [
        "The same goes for the width."
      ]
    },
    {
      "cell_type": "code",
      "metadata": {
        "colab": {
          "base_uri": "https://localhost:8080/"
        },
        "id": "7KOqyGMOkncU",
        "outputId": "42d96fb2-c11d-4713-eb83-91d9d9d28ad6"
      },
      "source": [
        "print(\"thumbnail width:\")\n",
        "print(reddit_memes_postes[\"thumbnail.width\"].describe())"
      ],
      "execution_count": null,
      "outputs": [
        {
          "output_type": "stream",
          "text": [
            "thumbnail width:\n",
            "count    69902.000000\n",
            "mean       139.987983\n",
            "std          0.917085\n",
            "min         70.000000\n",
            "25%        140.000000\n",
            "50%        140.000000\n",
            "75%        140.000000\n",
            "max        140.000000\n",
            "Name: thumbnail.width, dtype: float64\n"
          ],
          "name": "stdout"
        }
      ]
    },
    {
      "cell_type": "code",
      "metadata": {
        "colab": {
          "base_uri": "https://localhost:8080/"
        },
        "id": "v4wGNDGtkTYH",
        "outputId": "21cdfd37-2a21-475d-9e7f-4ec93d7d6c5a"
      },
      "source": [
        "reddit_memes_postes[\"thumbnail.width\"].value_counts()"
      ],
      "execution_count": null,
      "outputs": [
        {
          "output_type": "execute_result",
          "data": {
            "text/plain": [
              "140.0    69890\n",
              "70.0        12\n",
              "Name: thumbnail.width, dtype: int64"
            ]
          },
          "metadata": {
            "tags": []
          },
          "execution_count": 238
        }
      ]
    },
    {
      "cell_type": "markdown",
      "metadata": {
        "id": "FjPIrKBhneuk"
      },
      "source": [
        "The majority of posts have a 140 thumbnail width, therefore it won't add any predictive value.\n",
        "\n",
        "\n"
      ]
    },
    {
      "cell_type": "markdown",
      "metadata": {
        "id": "YQWpCbNGn4vs"
      },
      "source": [
        "### title"
      ]
    },
    {
      "cell_type": "markdown",
      "metadata": {
        "id": "s0XmyZY1oEep"
      },
      "source": [
        "it is already apparent from the *title* it represents the *title* of the post."
      ]
    },
    {
      "cell_type": "code",
      "metadata": {
        "colab": {
          "base_uri": "https://localhost:8080/"
        },
        "id": "0j03mOq4pDST",
        "outputId": "ff789d3a-99b6-4790-f2bd-7e32228722b0"
      },
      "source": [
        "reddit_memes_postes[\"title\"].head()"
      ],
      "execution_count": null,
      "outputs": [
        {
          "output_type": "execute_result",
          "data": {
            "text/plain": [
              "0                        It just be that way sometimes\n",
              "1    The time has come for the barter of pandemic d...\n",
              "2                                 Day 10 of quarantine\n",
              "3                 Desperate times, Desperate solutions\n",
              "4                 Desperate times, Desperate solutions\n",
              "Name: title, dtype: object"
            ]
          },
          "metadata": {
            "tags": []
          },
          "execution_count": 239
        }
      ]
    },
    {
      "cell_type": "markdown",
      "metadata": {
        "id": "ZOzWOv1tpDoD"
      },
      "source": [
        "To use it in any meaningful way it must go through an NLP pipeline, which is already done by the team that prepared the dataset, and considering that we don't plan on expanding more on it (at least for the current task) we don't see any value in keeping it."
      ]
    },
    {
      "cell_type": "markdown",
      "metadata": {
        "id": "kTKqZb8YpTbJ"
      },
      "source": [
        "### ups and ups_normed"
      ]
    },
    {
      "cell_type": "markdown",
      "metadata": {
        "id": "bbtEi5QtpU1k"
      },
      "source": [
        "ups: \"number of upvotes received\"\n",
        "\n",
        "it is our target, the variable that we want to predict"
      ]
    },
    {
      "cell_type": "code",
      "metadata": {
        "colab": {
          "base_uri": "https://localhost:8080/"
        },
        "id": "LNIQLlNIrWc1",
        "outputId": "89fab71e-5ec6-4ea7-e298-deeb4c21d496"
      },
      "source": [
        "reddit_memes_postes[\"ups\"].describe()"
      ],
      "execution_count": null,
      "outputs": [
        {
          "output_type": "execute_result",
          "data": {
            "text/plain": [
              "count     69942.000000\n",
              "mean        541.237125\n",
              "std        4064.362588\n",
              "min           0.000000\n",
              "25%           3.000000\n",
              "50%          22.000000\n",
              "75%          39.000000\n",
              "max      197317.000000\n",
              "Name: ups, dtype: float64"
            ]
          },
          "metadata": {
            "tags": []
          },
          "execution_count": 240
        }
      ]
    },
    {
      "cell_type": "markdown",
      "metadata": {
        "id": "5ENnQJIHro12"
      },
      "source": [
        "As it seems apparent the majority of posts are getting less than 3 upvotes (low effort/creativity posts) on the other and others get hundreds of thousands of upvotes (which is normal considering that Reddit algorithm encourage hight rising posts by keeping them on the front page of the community or even at the home page of the website itself)"
      ]
    },
    {
      "cell_type": "markdown",
      "metadata": {
        "id": "tC2QoDbMtDPg"
      },
      "source": [
        "Bad news: The distribution of values of the target variable is bad: the majority being low effort posts."
      ]
    },
    {
      "cell_type": "markdown",
      "metadata": {
        "id": "_tvjV2PD25gV"
      },
      "source": [
        "As for the ups_normed its the number of upvotes divided by the number of subscribers in the subreddit, it cancels the hidden parameters of the social exposure (statistically speaking the more members in a community the more members will find a post funny the more upvotes it will have), this relation will be tested later when we calculate the covariance between the two variables."
      ]
    },
    {
      "cell_type": "markdown",
      "metadata": {
        "id": "KK75UX8ruR1C"
      },
      "source": [
        "### url"
      ]
    },
    {
      "cell_type": "markdown",
      "metadata": {
        "id": "q4EBVie0ubBc"
      },
      "source": [
        "the url of the post"
      ]
    },
    {
      "cell_type": "code",
      "metadata": {
        "colab": {
          "base_uri": "https://localhost:8080/"
        },
        "id": "rl8B6BKSuUUy",
        "outputId": "bbbd12b3-e2ab-491b-f03e-95a54ae86cc9"
      },
      "source": [
        "reddit_memes_postes[\"url\"].head(3)"
      ],
      "execution_count": null,
      "outputs": [
        {
          "output_type": "execute_result",
          "data": {
            "text/plain": [
              "0    /r/dank_meme/comments/fkf6kd/it_just_be_that_w...\n",
              "1    /r/dank_meme/comments/fkf5n5/the_time_has_come...\n",
              "2    /r/dank_meme/comments/fkezoq/day_10_of_quarant...\n",
              "Name: url, dtype: object"
            ]
          },
          "metadata": {
            "tags": []
          },
          "execution_count": 241
        }
      ]
    },
    {
      "cell_type": "markdown",
      "metadata": {
        "id": "F5kOov0iw7BH"
      },
      "source": [
        "url = \"https://www.reddit.com\" + subreddit + \"/\" + id\n",
        "\n",
        "---\n",
        "\n"
      ]
    },
    {
      "cell_type": "markdown",
      "metadata": {
        "id": "6Y2Z9h0cuq5m"
      },
      "source": [
        "We already dropped the id, but as you might remark we didn't explain why, the time has come: \n",
        "\n",
        "the id/URL could be used in combination with external scrapers to fetch new features for the rows that we already have.\n",
        "\n",
        "But in doing soo you are limited:\n",
        "* for the dank_meme subreddit you are very restricted because it's a private community)\n",
        "* Many posts we deleted (directly after being posted which explain partially why we have many 1 vote posted or the hosting server for the image is down)\n",
        "\n",
        "Re-scraping the website or using external APIs is more efficient than going with this option therefore we prefer to just drop it later."
      ]
    },
    {
      "cell_type": "code",
      "metadata": {
        "colab": {
          "base_uri": "https://localhost:8080/"
        },
        "id": "v7G55dUHvRTe",
        "outputId": "4a9f1af0-57d4-4fee-8f99-97c3b4ff570c"
      },
      "source": [
        "\"https://www.reddit.com\" + reddit_memes_postes[\"url\"][777]"
      ],
      "execution_count": null,
      "outputs": [
        {
          "output_type": "execute_result",
          "data": {
            "application/vnd.google.colaboratory.intrinsic+json": {
              "type": "string"
            },
            "text/plain": [
              "'https://www.reddit.com/r/me_irl/comments/fkenll/me_irl/'"
            ]
          },
          "metadata": {
            "tags": []
          },
          "execution_count": 242
        }
      ]
    },
    {
      "cell_type": "markdown",
      "metadata": {
        "id": "P3iEMZtv5E0N"
      },
      "source": [
        "### dank_level"
      ]
    },
    {
      "cell_type": "markdown",
      "metadata": {
        "id": "otRSL4XE5L0g"
      },
      "source": [
        "\"Using the the normalized upvotes feature as our criteria, any posts with a normalized upvotes value in the top 5% of all posts was classified as dank (positive, 1), and the rest was classified as not dank (negative, 0). \""
      ]
    },
    {
      "cell_type": "code",
      "metadata": {
        "colab": {
          "base_uri": "https://localhost:8080/"
        },
        "id": "SJJ-NT0C5p5Q",
        "outputId": "2c35c697-29f8-40a7-aa05-4ac2afef31cb"
      },
      "source": [
        "reddit_memes_postes[\"dank_level\"].describe()"
      ],
      "execution_count": null,
      "outputs": [
        {
          "output_type": "execute_result",
          "data": {
            "text/plain": [
              "count    69942.000000\n",
              "mean         0.049327\n",
              "std          0.216551\n",
              "min          0.000000\n",
              "25%          0.000000\n",
              "50%          0.000000\n",
              "75%          0.000000\n",
              "max          1.000000\n",
              "Name: dank_level, dtype: float64"
            ]
          },
          "metadata": {
            "tags": []
          },
          "execution_count": 243
        }
      ]
    },
    {
      "cell_type": "markdown",
      "metadata": {
        "id": "4FREfCoE5wzD"
      },
      "source": [
        "First, let's make it into a categorical variable"
      ]
    },
    {
      "cell_type": "code",
      "metadata": {
        "id": "6ewn1AJU56W4"
      },
      "source": [
        "reddit_memes_postes.loc[:,'dank_level'] = reddit_memes_postes['dank_level'].astype(\"str\")\n",
        "reddit_memes_postes['dank_level'] = reddit_memes_postes['dank_level'].replace(['nan'], np.nan)"
      ],
      "execution_count": null,
      "outputs": []
    },
    {
      "cell_type": "code",
      "metadata": {
        "colab": {
          "base_uri": "https://localhost:8080/"
        },
        "id": "-SptjZVh6CPA",
        "outputId": "d5aaccc9-116e-4c4f-bc8e-ac991a655d06"
      },
      "source": [
        "x = [\"not dank\", \"dank\"]\n",
        "y = (reddit_memes_postes[\"dank_level\"].value_counts().values/len(reddit_memes_postes[\"dank_level\"])*100).round(2)\n",
        "\n",
        "fig1, ax1 = plt.subplots()\n",
        "ax1.pie(y, labels=x, autopct='%1.1f%%', shadow=True, startangle=90)\n",
        "ax1.axis('equal')  # Equal aspect ratio ensures that pie is drawn as a circle.\n",
        "\n",
        "plt.show()"
      ],
      "execution_count": null,
      "outputs": [
        {
          "output_type": "display_data",
          "data": {
            "image/png": "[encoded data removed]",
            "text/plain": [
              "<Figure size 432x288 with 1 Axes>"
            ]
          },
          "metadata": {
            "tags": []
          }
        }
      ]
    },
    {
      "cell_type": "markdown",
      "metadata": {
        "id": "WWG6YxAH7fKo"
      },
      "source": [
        "which makes sense taking into account the comments on the number of upvotes."
      ]
    },
    {
      "cell_type": "code",
      "metadata": {
        "colab": {
          "base_uri": "https://localhost:8080/"
        },
        "id": "H-0LgUhC6ykf",
        "outputId": "afcd9bfc-95b8-4734-f22f-2134931c3dbf"
      },
      "source": [
        "(reddit_memes_postes[\"dank_level\"].value_counts().values/len(reddit_memes_postes[\"dank_level\"])*100).round(2)"
      ],
      "execution_count": null,
      "outputs": [
        {
          "output_type": "execute_result",
          "data": {
            "text/plain": [
              "array([87.33,  4.53])"
            ]
          },
          "metadata": {
            "tags": []
          },
          "execution_count": 246
        }
      ]
    },
    {
      "cell_type": "markdown",
      "metadata": {
        "id": "tmadVF2m6PEQ"
      },
      "source": [
        "### Sentiment"
      ]
    },
    {
      "cell_type": "markdown",
      "metadata": {
        "id": "1ls276OK8mPa"
      },
      "source": [
        "\"the sentiment scores ... quantify the feeling or tone of the text. If the text is positive or happy, it scores closer to 1, and negative or sad texts score closer to 0.\""
      ]
    },
    {
      "cell_type": "code",
      "metadata": {
        "colab": {
          "base_uri": "https://localhost:8080/"
        },
        "id": "zV5mtBkb5LoU",
        "outputId": "3358e0b9-62ea-4aef-bcc5-27c51a45a770"
      },
      "source": [
        "reddit_memes_postes[\"Sentiment\"].describe()"
      ],
      "execution_count": null,
      "outputs": [
        {
          "output_type": "execute_result",
          "data": {
            "text/plain": [
              "count    69942.000000\n",
              "mean         0.435738\n",
              "std          0.105836\n",
              "min          0.020000\n",
              "25%          0.400000\n",
              "50%          0.450000\n",
              "75%          0.500000\n",
              "max          0.840000\n",
              "Name: Sentiment, dtype: float64"
            ]
          },
          "metadata": {
            "tags": []
          },
          "execution_count": 247
        }
      ]
    },
    {
      "cell_type": "code",
      "metadata": {
        "colab": {
          "base_uri": "https://localhost:8080/"
        },
        "id": "3gzBaK2G9Jqy",
        "outputId": "6723801c-4da9-4edb-e3de-26fbf4611279"
      },
      "source": [
        "reddit_memes_postes[\"Sentiment\"].hist()"
      ],
      "execution_count": null,
      "outputs": [
        {
          "output_type": "execute_result",
          "data": {
            "text/plain": [
              "<matplotlib.axes._subplots.AxesSubplot at 0x7f8976d1d210>"
            ]
          },
          "metadata": {
            "tags": []
          },
          "execution_count": 248
        },
        {
          "output_type": "display_data",
          "data": {
            "image/png": "[encoded data removed]",
            "text/plain": [
              "<Figure size 432x288 with 1 Axes>"
            ]
          },
          "metadata": {
            "tags": [],
            "needs_background": "light"
          }
        }
      ]
    },
    {
      "cell_type": "markdown",
      "metadata": {
        "id": "B14mT4AX9DvN"
      },
      "source": [
        "The majority of posts are close to the 0.5 point (neutral) with a higher number on the left than the right (better sad than happy)."
      ]
    },
    {
      "cell_type": "markdown",
      "metadata": {
        "id": "edK_QhfF9Je9"
      },
      "source": [
        "### TextLength and word_count"
      ]
    },
    {
      "cell_type": "markdown",
      "metadata": {
        "id": "DbPhdGAp_7LJ"
      },
      "source": [
        "#### TextLength"
      ]
    },
    {
      "cell_type": "markdown",
      "metadata": {
        "id": "E8BPhd8c-cWo"
      },
      "source": [
        "TextLength: \"number of characters in title\""
      ]
    },
    {
      "cell_type": "code",
      "metadata": {
        "colab": {
          "base_uri": "https://localhost:8080/"
        },
        "id": "F6EnNB7a-WyT",
        "outputId": "a61992eb-63eb-4e4e-b97c-bd08762f7590"
      },
      "source": [
        "reddit_memes_postes[\"TextLength\"].describe()"
      ],
      "execution_count": null,
      "outputs": [
        {
          "output_type": "execute_result",
          "data": {
            "text/plain": [
              "count    69942.000000\n",
              "mean       125.687641\n",
              "std        121.264094\n",
              "min          1.000000\n",
              "25%         66.000000\n",
              "50%        100.000000\n",
              "75%        146.000000\n",
              "max       6862.000000\n",
              "Name: TextLength, dtype: float64"
            ]
          },
          "metadata": {
            "tags": []
          },
          "execution_count": 249
        }
      ]
    },
    {
      "cell_type": "code",
      "metadata": {
        "colab": {
          "base_uri": "https://localhost:8080/"
        },
        "id": "qfqiZASY-82U",
        "outputId": "f526f73e-3f7e-4c5c-b927-64038746db8e"
      },
      "source": [
        "\n",
        "reddit_memes_postes[\"TextLength\"].hist()"
      ],
      "execution_count": null,
      "outputs": [
        {
          "output_type": "execute_result",
          "data": {
            "text/plain": [
              "<matplotlib.axes._subplots.AxesSubplot at 0x7f8976a46f90>"
            ]
          },
          "metadata": {
            "tags": []
          },
          "execution_count": 250
        },
        {
          "output_type": "display_data",
          "data": {
            "image/png": "[encoded data removed]",
            "text/plain": [
              "<Figure size 432x288 with 1 Axes>"
            ]
          },
          "metadata": {
            "tags": [],
            "needs_background": "light"
          }
        }
      ]
    },
    {
      "cell_type": "markdown",
      "metadata": {
        "id": "4fSYrqCF_W_C"
      },
      "source": [
        "After discarding the outliers we get a nicer distribution:"
      ]
    },
    {
      "cell_type": "code",
      "metadata": {
        "colab": {
          "base_uri": "https://localhost:8080/"
        },
        "id": "YPGfGVb1_KXO",
        "outputId": "c916e779-4577-43eb-d1dd-6021e8cb0501"
      },
      "source": [
        "reddit_memes_postes[\"TextLength\"][reddit_memes_postes[\"TextLength\"]<300].hist()"
      ],
      "execution_count": null,
      "outputs": [
        {
          "output_type": "execute_result",
          "data": {
            "text/plain": [
              "<matplotlib.axes._subplots.AxesSubplot at 0x7f8976969a50>"
            ]
          },
          "metadata": {
            "tags": []
          },
          "execution_count": 251
        },
        {
          "output_type": "display_data",
          "data": {
            "image/png": "[encoded data removed]",
            "text/plain": [
              "<Figure size 432x288 with 1 Axes>"
            ]
          },
          "metadata": {
            "tags": [],
            "needs_background": "light"
          }
        }
      ]
    },
    {
      "cell_type": "markdown",
      "metadata": {
        "id": "2ICNxkTy_o1s"
      },
      "source": [
        "\"Shorter is Better\""
      ]
    },
    {
      "cell_type": "markdown",
      "metadata": {
        "id": "o16lKF3s_-98"
      },
      "source": [
        "#### word_count"
      ]
    },
    {
      "cell_type": "markdown",
      "metadata": {
        "id": "Rf7_0NU0AAQe"
      },
      "source": [
        "word_count: \"number of words in title and image\""
      ]
    },
    {
      "cell_type": "code",
      "metadata": {
        "colab": {
          "base_uri": "https://localhost:8080/"
        },
        "id": "S7UXXnlA-5Pw",
        "outputId": "ef22f091-c820-4014-9f37-94412ae2f2a5"
      },
      "source": [
        "reddit_memes_postes[\"word_count\"].describe()"
      ],
      "execution_count": null,
      "outputs": [
        {
          "output_type": "execute_result",
          "data": {
            "text/plain": [
              "count    69942.000000\n",
              "mean         9.531026\n",
              "std          9.133303\n",
              "min          0.000000\n",
              "25%          5.000000\n",
              "50%          8.000000\n",
              "75%         11.000000\n",
              "max        482.000000\n",
              "Name: word_count, dtype: float64"
            ]
          },
          "metadata": {
            "tags": []
          },
          "execution_count": 252
        }
      ]
    },
    {
      "cell_type": "code",
      "metadata": {
        "colab": {
          "base_uri": "https://localhost:8080/"
        },
        "id": "9OKG13_0AI6l",
        "outputId": "26b2fd53-eb14-4f88-eda3-46cc6c87bf11"
      },
      "source": [
        "reddit_memes_postes[\"word_count\"].hist()"
      ],
      "execution_count": null,
      "outputs": [
        {
          "output_type": "execute_result",
          "data": {
            "text/plain": [
              "<matplotlib.axes._subplots.AxesSubplot at 0x7f89768faf50>"
            ]
          },
          "metadata": {
            "tags": []
          },
          "execution_count": 253
        },
        {
          "output_type": "display_data",
          "data": {
            "image/png": "[encoded data removed]",
            "text/plain": [
              "<Figure size 432x288 with 1 Axes>"
            ]
          },
          "metadata": {
            "tags": [],
            "needs_background": "light"
          }
        }
      ]
    },
    {
      "cell_type": "markdown",
      "metadata": {
        "id": "2ZRpFiKVANOG"
      },
      "source": [
        "seems the same problem recurred (which is normal: if you have a high number of characters then likely you have a high number of words)"
      ]
    },
    {
      "cell_type": "code",
      "metadata": {
        "colab": {
          "base_uri": "https://localhost:8080/"
        },
        "id": "PN-00Z7xB_h_",
        "outputId": "73f74d0c-9b1c-4c7d-d924-62fb0bc95c75"
      },
      "source": [
        "reddit_memes_postes[\"word_count\"][reddit_memes_postes[\"word_count\"]<30].hist()"
      ],
      "execution_count": null,
      "outputs": [
        {
          "output_type": "execute_result",
          "data": {
            "text/plain": [
              "<matplotlib.axes._subplots.AxesSubplot at 0x7f898cc52710>"
            ]
          },
          "metadata": {
            "tags": []
          },
          "execution_count": 254
        },
        {
          "output_type": "display_data",
          "data": {
            "image/png": "[encoded data removed]",
            "text/plain": [
              "<Figure size 432x288 with 1 Axes>"
            ]
          },
          "metadata": {
            "tags": [],
            "needs_background": "light"
          }
        }
      ]
    },
    {
      "cell_type": "markdown",
      "metadata": {
        "id": "h_v-NbC5CaHk"
      },
      "source": [
        "### Colors"
      ]
    },
    {
      "cell_type": "markdown",
      "metadata": {
        "id": "-BZKWp5FEEmX"
      },
      "source": [
        "\"we extracted colors from the HSV versions of our meme images. We used an OpenCV image segmentation technique to isolate 30 colors, including a small range around the specific HSV value of the color. This range was used to mask the images, revealing only pixels within that color range. The number of pixels in the mask was normalized for images of differing sizes by dividing by the total number of pixels in the image. These color attributes represent the amount of each of the 30 given colors present in the meme images.\""
      ]
    },
    {
      "cell_type": "code",
      "metadata": {
        "colab": {
          "base_uri": "https://localhost:8080/"
        },
        "id": "CgR5oTIpCh5I",
        "outputId": "d395e5f7-ffdb-4e4e-b1f9-aed50a352e95"
      },
      "source": [
        "#RGB and HSV base cordines plus the 30 base colors extracted using OpenCV\n",
        "reddit_memes_postes[['avg_blueRGB', 'avg_greenRGB',\n",
        "       'avg_hue', 'avg_redRGB', 'avg_saturation', 'avg_value', 'off-white',\n",
        "       'aqua', 'mustard', 'pure-black', 'purple', 'red-brown', 'dust-brown',\n",
        "       'gray-blue', 'orange', 'salmon', 'dark-green', 'pink', 'pure-white',\n",
        "       'yellow-green', 'bright-yellow', 'teal', 'cyan', 'gray', 'maroon',\n",
        "       'olive', 'light-blue', 'plum', 'siena-brown', 'gold', 'pure-red',\n",
        "       'pure-green', 'pure-blue', 'coral', 'peach', 'col']].describe()"
      ],
      "execution_count": null,
      "outputs": [
        {
          "output_type": "execute_result",
          "data": {
            "text/html": [
              "<div>\n",
              "<style scoped>\n",
              "    .dataframe tbody tr th:only-of-type {\n",
              "        vertical-align: middle;\n",
              "    }\n",
              "\n",
              "    .dataframe tbody tr th {\n",
              "        vertical-align: top;\n",
              "    }\n",
              "\n",
              "    .dataframe thead th {\n",
              "        text-align: right;\n",
              "    }\n",
              "</style>\n",
              "<table border=\"1\" class=\"dataframe\">\n",
              "  <thead>\n",
              "    <tr style=\"text-align: right;\">\n",
              "      <th></th>\n",
              "      <th>avg_blueRGB</th>\n",
              "      <th>avg_greenRGB</th>\n",
              "      <th>avg_hue</th>\n",
              "      <th>avg_redRGB</th>\n",
              "      <th>avg_saturation</th>\n",
              "      <th>avg_value</th>\n",
              "      <th>off-white</th>\n",
              "      <th>aqua</th>\n",
              "      <th>mustard</th>\n",
              "      <th>pure-black</th>\n",
              "      <th>...</th>\n",
              "      <th>light-blue</th>\n",
              "      <th>plum</th>\n",
              "      <th>siena-brown</th>\n",
              "      <th>gold</th>\n",
              "      <th>pure-red</th>\n",
              "      <th>pure-green</th>\n",
              "      <th>pure-blue</th>\n",
              "      <th>coral</th>\n",
              "      <th>peach</th>\n",
              "      <th>col</th>\n",
              "    </tr>\n",
              "  </thead>\n",
              "  <tbody>\n",
              "    <tr>\n",
              "      <th>count</th>\n",
              "      <td>50651.000000</td>\n",
              "      <td>50651.000000</td>\n",
              "      <td>50651.000000</td>\n",
              "      <td>50651.000000</td>\n",
              "      <td>50651.000000</td>\n",
              "      <td>50651.000000</td>\n",
              "      <td>50538.000000</td>\n",
              "      <td>50538.000000</td>\n",
              "      <td>50538.000000</td>\n",
              "      <td>50538.000000</td>\n",
              "      <td>...</td>\n",
              "      <td>50538.000000</td>\n",
              "      <td>50538.0</td>\n",
              "      <td>50538.0</td>\n",
              "      <td>50538.000000</td>\n",
              "      <td>50538.000000</td>\n",
              "      <td>50538.000000</td>\n",
              "      <td>50538.000000</td>\n",
              "      <td>50538.0</td>\n",
              "      <td>50538.000000</td>\n",
              "      <td>50538.000000</td>\n",
              "    </tr>\n",
              "    <tr>\n",
              "      <th>mean</th>\n",
              "      <td>128.639556</td>\n",
              "      <td>133.423249</td>\n",
              "      <td>46.300384</td>\n",
              "      <td>140.567151</td>\n",
              "      <td>65.437999</td>\n",
              "      <td>150.060820</td>\n",
              "      <td>4.798367</td>\n",
              "      <td>0.153165</td>\n",
              "      <td>0.167914</td>\n",
              "      <td>16.674078</td>\n",
              "      <td>...</td>\n",
              "      <td>0.094840</td>\n",
              "      <td>0.0</td>\n",
              "      <td>0.0</td>\n",
              "      <td>3.750098</td>\n",
              "      <td>0.055067</td>\n",
              "      <td>0.475572</td>\n",
              "      <td>0.109823</td>\n",
              "      <td>0.0</td>\n",
              "      <td>1.834024</td>\n",
              "      <td>2.522078</td>\n",
              "    </tr>\n",
              "    <tr>\n",
              "      <th>std</th>\n",
              "      <td>50.418799</td>\n",
              "      <td>49.587056</td>\n",
              "      <td>28.166636</td>\n",
              "      <td>49.936033</td>\n",
              "      <td>38.960155</td>\n",
              "      <td>48.927037</td>\n",
              "      <td>11.777363</td>\n",
              "      <td>2.312782</td>\n",
              "      <td>2.428924</td>\n",
              "      <td>35.540049</td>\n",
              "      <td>...</td>\n",
              "      <td>1.811116</td>\n",
              "      <td>0.0</td>\n",
              "      <td>0.0</td>\n",
              "      <td>9.429906</td>\n",
              "      <td>2.321886</td>\n",
              "      <td>4.390867</td>\n",
              "      <td>2.114918</td>\n",
              "      <td>0.0</td>\n",
              "      <td>7.295825</td>\n",
              "      <td>8.577559</td>\n",
              "    </tr>\n",
              "    <tr>\n",
              "      <th>min</th>\n",
              "      <td>0.000000</td>\n",
              "      <td>0.000000</td>\n",
              "      <td>0.000000</td>\n",
              "      <td>0.000000</td>\n",
              "      <td>0.000000</td>\n",
              "      <td>0.000000</td>\n",
              "      <td>0.000000</td>\n",
              "      <td>0.000000</td>\n",
              "      <td>0.000000</td>\n",
              "      <td>0.000000</td>\n",
              "      <td>...</td>\n",
              "      <td>0.000000</td>\n",
              "      <td>0.0</td>\n",
              "      <td>0.0</td>\n",
              "      <td>0.000000</td>\n",
              "      <td>0.000000</td>\n",
              "      <td>0.000000</td>\n",
              "      <td>0.000000</td>\n",
              "      <td>0.0</td>\n",
              "      <td>0.000000</td>\n",
              "      <td>0.000000</td>\n",
              "    </tr>\n",
              "    <tr>\n",
              "      <th>25%</th>\n",
              "      <td>93.589513</td>\n",
              "      <td>100.048523</td>\n",
              "      <td>24.389515</td>\n",
              "      <td>107.510989</td>\n",
              "      <td>37.174465</td>\n",
              "      <td>117.865021</td>\n",
              "      <td>0.463955</td>\n",
              "      <td>0.000000</td>\n",
              "      <td>0.000000</td>\n",
              "      <td>1.284356</td>\n",
              "      <td>...</td>\n",
              "      <td>0.000000</td>\n",
              "      <td>0.0</td>\n",
              "      <td>0.0</td>\n",
              "      <td>0.001864</td>\n",
              "      <td>0.000000</td>\n",
              "      <td>0.000000</td>\n",
              "      <td>0.000000</td>\n",
              "      <td>0.0</td>\n",
              "      <td>0.000000</td>\n",
              "      <td>0.003986</td>\n",
              "    </tr>\n",
              "    <tr>\n",
              "      <th>50%</th>\n",
              "      <td>126.528284</td>\n",
              "      <td>132.802437</td>\n",
              "      <td>42.309425</td>\n",
              "      <td>141.884962</td>\n",
              "      <td>60.765319</td>\n",
              "      <td>152.472961</td>\n",
              "      <td>1.573736</td>\n",
              "      <td>0.000000</td>\n",
              "      <td>0.000000</td>\n",
              "      <td>4.341714</td>\n",
              "      <td>...</td>\n",
              "      <td>0.000000</td>\n",
              "      <td>0.0</td>\n",
              "      <td>0.0</td>\n",
              "      <td>0.319410</td>\n",
              "      <td>0.000000</td>\n",
              "      <td>0.000000</td>\n",
              "      <td>0.000000</td>\n",
              "      <td>0.0</td>\n",
              "      <td>0.008263</td>\n",
              "      <td>0.201326</td>\n",
              "    </tr>\n",
              "    <tr>\n",
              "      <th>75%</th>\n",
              "      <td>162.083398</td>\n",
              "      <td>167.005624</td>\n",
              "      <td>64.330374</td>\n",
              "      <td>174.196552</td>\n",
              "      <td>89.668617</td>\n",
              "      <td>184.591979</td>\n",
              "      <td>4.369115</td>\n",
              "      <td>0.000000</td>\n",
              "      <td>0.000000</td>\n",
              "      <td>11.297761</td>\n",
              "      <td>...</td>\n",
              "      <td>0.000000</td>\n",
              "      <td>0.0</td>\n",
              "      <td>0.0</td>\n",
              "      <td>2.920194</td>\n",
              "      <td>0.000000</td>\n",
              "      <td>0.000000</td>\n",
              "      <td>0.000000</td>\n",
              "      <td>0.0</td>\n",
              "      <td>0.509722</td>\n",
              "      <td>1.466760</td>\n",
              "    </tr>\n",
              "    <tr>\n",
              "      <th>max</th>\n",
              "      <td>255.000000</td>\n",
              "      <td>255.000000</td>\n",
              "      <td>175.696601</td>\n",
              "      <td>255.000000</td>\n",
              "      <td>255.000000</td>\n",
              "      <td>255.000000</td>\n",
              "      <td>247.087264</td>\n",
              "      <td>171.017748</td>\n",
              "      <td>197.031814</td>\n",
              "      <td>255.000000</td>\n",
              "      <td>...</td>\n",
              "      <td>232.608481</td>\n",
              "      <td>0.0</td>\n",
              "      <td>0.0</td>\n",
              "      <td>171.191175</td>\n",
              "      <td>228.863858</td>\n",
              "      <td>223.208661</td>\n",
              "      <td>213.277334</td>\n",
              "      <td>0.0</td>\n",
              "      <td>207.360236</td>\n",
              "      <td>169.718836</td>\n",
              "    </tr>\n",
              "  </tbody>\n",
              "</table>\n",
              "<p>8 rows × 36 columns</p>\n",
              "</div>"
            ],
            "text/plain": [
              "        avg_blueRGB  avg_greenRGB       avg_hue    avg_redRGB  avg_saturation  \\\n",
              "count  50651.000000  50651.000000  50651.000000  50651.000000    50651.000000   \n",
              "mean     128.639556    133.423249     46.300384    140.567151       65.437999   \n",
              "std       50.418799     49.587056     28.166636     49.936033       38.960155   \n",
              "min        0.000000      0.000000      0.000000      0.000000        0.000000   \n",
              "25%       93.589513    100.048523     24.389515    107.510989       37.174465   \n",
              "50%      126.528284    132.802437     42.309425    141.884962       60.765319   \n",
              "75%      162.083398    167.005624     64.330374    174.196552       89.668617   \n",
              "max      255.000000    255.000000    175.696601    255.000000      255.000000   \n",
              "\n",
              "          avg_value     off-white          aqua       mustard    pure-black  \\\n",
              "count  50651.000000  50538.000000  50538.000000  50538.000000  50538.000000   \n",
              "mean     150.060820      4.798367      0.153165      0.167914     16.674078   \n",
              "std       48.927037     11.777363      2.312782      2.428924     35.540049   \n",
              "min        0.000000      0.000000      0.000000      0.000000      0.000000   \n",
              "25%      117.865021      0.463955      0.000000      0.000000      1.284356   \n",
              "50%      152.472961      1.573736      0.000000      0.000000      4.341714   \n",
              "75%      184.591979      4.369115      0.000000      0.000000     11.297761   \n",
              "max      255.000000    247.087264    171.017748    197.031814    255.000000   \n",
              "\n",
              "       ...    light-blue     plum  siena-brown          gold      pure-red  \\\n",
              "count  ...  50538.000000  50538.0      50538.0  50538.000000  50538.000000   \n",
              "mean   ...      0.094840      0.0          0.0      3.750098      0.055067   \n",
              "std    ...      1.811116      0.0          0.0      9.429906      2.321886   \n",
              "min    ...      0.000000      0.0          0.0      0.000000      0.000000   \n",
              "25%    ...      0.000000      0.0          0.0      0.001864      0.000000   \n",
              "50%    ...      0.000000      0.0          0.0      0.319410      0.000000   \n",
              "75%    ...      0.000000      0.0          0.0      2.920194      0.000000   \n",
              "max    ...    232.608481      0.0          0.0    171.191175    228.863858   \n",
              "\n",
              "         pure-green     pure-blue    coral         peach           col  \n",
              "count  50538.000000  50538.000000  50538.0  50538.000000  50538.000000  \n",
              "mean       0.475572      0.109823      0.0      1.834024      2.522078  \n",
              "std        4.390867      2.114918      0.0      7.295825      8.577559  \n",
              "min        0.000000      0.000000      0.0      0.000000      0.000000  \n",
              "25%        0.000000      0.000000      0.0      0.000000      0.003986  \n",
              "50%        0.000000      0.000000      0.0      0.008263      0.201326  \n",
              "75%        0.000000      0.000000      0.0      0.509722      1.466760  \n",
              "max      223.208661    213.277334      0.0    207.360236    169.718836  \n",
              "\n",
              "[8 rows x 36 columns]"
            ]
          },
          "metadata": {
            "tags": []
          },
          "execution_count": 11
        }
      ]
    },
    {
      "cell_type": "markdown",
      "metadata": {
        "id": "jZ4y98pcExNJ"
      },
      "source": [
        "Many of them are all zeros (colores that are not present in the memes in the dataset (ex: coral color)."
      ]
    },
    {
      "cell_type": "code",
      "metadata": {
        "colab": {
          "base_uri": "https://localhost:8080/"
        },
        "id": "6eDKNKRBEOlu",
        "outputId": "95e50d9f-cb49-4617-ad19-4af11b39e843"
      },
      "source": [
        "reddit_memes_postes[['avg_blueRGB', 'avg_greenRGB', 'avg_hue', 'avg_redRGB', 'avg_saturation', 'avg_value']].plot.box(figsize=(10,5))"
      ],
      "execution_count": null,
      "outputs": [
        {
          "output_type": "execute_result",
          "data": {
            "text/plain": [
              "<matplotlib.axes._subplots.AxesSubplot at 0x7f89767e60d0>"
            ]
          },
          "metadata": {
            "tags": []
          },
          "execution_count": 256
        },
        {
          "output_type": "display_data",
          "data": {
            "image/png": "[encoded data removed]",
            "text/plain": [
              "<Figure size 720x360 with 1 Axes>"
            ]
          },
          "metadata": {
            "tags": [],
            "needs_background": "light"
          }
        }
      ]
    },
    {
      "cell_type": "markdown",
      "metadata": {
        "id": "q5xCTrkaIX9q"
      },
      "source": [
        "### vgg features"
      ]
    },
    {
      "cell_type": "markdown",
      "metadata": {
        "id": "vjo5OUL3KBtn"
      },
      "source": [
        "the results of applying a vgg16 pretrained neural network on the images to predict the objects on the image, where vgg_feature_X is the category X and vggX_prob it's probability of being correct."
      ]
    },
    {
      "cell_type": "code",
      "metadata": {
        "colab": {
          "base_uri": "https://localhost:8080/"
        },
        "id": "D0iae4NoMPBS",
        "outputId": "77ff3ff1-0c1a-4a39-a7d0-766b38ffef07"
      },
      "source": [
        "reddit_memes_postes['vgg_feature_1'].head()"
      ],
      "execution_count": null,
      "outputs": [
        {
          "output_type": "execute_result",
          "data": {
            "text/plain": [
              "0        binder\n",
              "1    neck_brace\n",
              "2      envelope\n",
              "3      web_site\n",
              "4      web_site\n",
              "Name: vgg_feature_1, dtype: object"
            ]
          },
          "metadata": {
            "tags": []
          },
          "execution_count": 257
        }
      ]
    },
    {
      "cell_type": "code",
      "metadata": {
        "colab": {
          "base_uri": "https://localhost:8080/"
        },
        "id": "bFKVCvBSKy-2",
        "outputId": "4ff92b77-a42f-4d92-f29c-20dc74a8bc61"
      },
      "source": [
        "all_categories_dup = np.concatenate([reddit_memes_postes['vgg_feature_1'][reddit_memes_postes['vgg_feature_1'].notnull()],\n",
        "                                     reddit_memes_postes['vgg_feature_2'][reddit_memes_postes['vgg_feature_2'].notnull()],\n",
        "                                     reddit_memes_postes['vgg_feature_3'][reddit_memes_postes['vgg_feature_3'].notnull()]])\n",
        "print(\"we have\", str(len(np.unique(all_categories_dup))), \"unique categories\")"
      ],
      "execution_count": null,
      "outputs": [
        {
          "output_type": "stream",
          "text": [
            "we have 982 unique categories\n"
          ],
          "name": "stdout"
        }
      ]
    },
    {
      "cell_type": "code",
      "metadata": {
        "colab": {
          "base_uri": "https://localhost:8080/",
          "height": 338
        },
        "id": "yLVlWt49MiZg",
        "outputId": "13c19eac-9c0a-4604-fce8-3918c2f0d188"
      },
      "source": [
        "from collections import Counter\n",
        "b = Counter(all_categories_dup)\n",
        "\n",
        "n = 15\n",
        "keys = [element[0] for element in b.most_common(n)]\n",
        "values = [element[1] for element in b.most_common(n)]\n",
        "\n",
        "plt.figure(figsize=(21,5))\n",
        "plt.bar(keys, values)"
      ],
      "execution_count": null,
      "outputs": [
        {
          "output_type": "execute_result",
          "data": {
            "text/plain": [
              "<BarContainer object of 15 artists>"
            ]
          },
          "metadata": {
            "tags": []
          },
          "execution_count": 259
        },
        {
          "output_type": "display_data",
          "data": {
            "image/png": "[encoded data removed]",
            "text/plain": [
              "<Figure size 1512x360 with 1 Axes>"
            ]
          },
          "metadata": {
            "tags": [],
            "needs_background": "light"
          }
        }
      ]
    },
    {
      "cell_type": "markdown",
      "metadata": {
        "id": "4TK47gVhNSwZ"
      },
      "source": [
        "By far the term 'web_site' is the most requiring, the reason being that a high number of images were created by a website that keeps its watermark on the images and therefore was detected by the vgg neural network."
      ]
    },
    {
      "cell_type": "code",
      "metadata": {
        "colab": {
          "base_uri": "https://localhost:8080/",
          "height": 337
        },
        "id": "rE4NH2iaN4QJ",
        "outputId": "243f1fdc-2fb5-4fa6-8b9b-ba63ad9a1fdd"
      },
      "source": [
        "from collections import Counter\n",
        "b = Counter(all_categories_dup)\n",
        "\n",
        "keys = [element[0] for element in b.most_common()][1:]\n",
        "values = [element[1] for element in b.most_common()][1:]\n",
        "\n",
        "plt.figure(figsize=(21,5))\n",
        "plt.xticks(np.arange(min(values), max(values)+1, 25.0))\n",
        "plt.plot(values)"
      ],
      "execution_count": null,
      "outputs": [
        {
          "output_type": "execute_result",
          "data": {
            "text/plain": [
              "[<matplotlib.lines.Line2D at 0x7f8976310cd0>]"
            ]
          },
          "metadata": {
            "tags": []
          },
          "execution_count": 260
        },
        {
          "output_type": "display_data",
          "data": {
            "image/png": "[encoded data removed]",
            "text/plain": [
              "<Figure size 1512x360 with 1 Axes>"
            ]
          },
          "metadata": {
            "tags": [],
            "needs_background": "light"
          }
        }
      ]
    },
    {
      "cell_type": "markdown",
      "metadata": {
        "id": "-kuwCfVUOEOy"
      },
      "source": [
        "Even after removing it the minority still rules."
      ]
    },
    {
      "cell_type": "markdown",
      "metadata": {
        "id": "L8yVKVjP9Dsi"
      },
      "source": [
        "## Dataset Insight\n",
        "### Let's visualize the relationships between pairs of features by plotting the scatter plots of each pairs in the cartesian product of features"
      ]
    },
    {
      "cell_type": "code",
      "metadata": {
        "id": "UlhwpgiZ9Oy3"
      },
      "source": [
        "%matplotlib inline\n",
        "_ = pd.plotting.scatter_matrix(reddit_memes_postes, figsize=(70,70), marker='o',hist_kwds={'bins':20},s=60,alpha=.8)"
      ],
      "execution_count": null,
      "outputs": []
    },
    {
      "cell_type": "markdown",
      "metadata": {
        "id": "Iw3q5THO9fJv"
      },
      "source": [
        "#### Below we propose another visualization showing the distributions of feature values, as well as some scatter plots for specific pairs of features"
      ]
    },
    {
      "cell_type": "code",
      "metadata": {
        "id": "DPfGZ_-nFn-d",
        "outputId": "cd0779f7-7d0d-431c-cec9-57387442915a"
      },
      "source": [
        "fig, axes = plt.subplots(1, 4, figsize=(15, 5), sharey=True)\n",
        "sns.scatterplot(ax=axes[0],x=reddit_memes_postes[\"is_nsfw\"], y=reddit_memes_postes.ups)\n",
        "sns.scatterplot(ax=axes[1],x=reddit_memes_postes[\"subscribers\"], y=reddit_memes_postes.ups)\n",
        "sns.scatterplot(ax=axes[2],x=reddit_memes_postes[\"thumbnail.height\"], y=reddit_memes_postes.ups)\n",
        "sns.scatterplot(ax=axes[3],x=reddit_memes_postes[\"thumbnail.width\"], y=reddit_memes_postes.ups)"
      ],
      "execution_count": null,
      "outputs": [
        {
          "output_type": "execute_result",
          "data": {
            "text/plain": [
              "<AxesSubplot:xlabel='thumbnail.width', ylabel='ups'>"
            ]
          },
          "metadata": {
            "tags": []
          },
          "execution_count": 14
        },
        {
          "output_type": "display_data",
          "data": {
            "image/png": "[encoded data removed]",
            "text/plain": [
              "<Figure size 1080x360 with 4 Axes>"
            ]
          },
          "metadata": {
            "tags": [],
            "needs_background": "light"
          }
        }
      ]
    },
    {
      "cell_type": "code",
      "metadata": {
        "id": "PNjGq-gsJRyF",
        "outputId": "5d319dd6-da0c-456c-f708-cbeb3a8c5d25"
      },
      "source": [
        "fig, axes = plt.subplots(1, 4, figsize=(15, 5), sharey=True)\n",
        "sns.scatterplot(ax=axes[0],x=reddit_memes_postes[\"Sentiment\"], y=reddit_memes_postes.ups)\n",
        "sns.scatterplot(ax=axes[1],x=reddit_memes_postes[\"word_count\"], y=reddit_memes_postes.ups)\n",
        "sns.scatterplot(ax=axes[2],x=reddit_memes_postes[\"TextLength\"], y=reddit_memes_postes.ups)\n",
        "sns.scatterplot(ax=axes[3],x=reddit_memes_postes[\"time_of_day\"], y=reddit_memes_postes.ups)"
      ],
      "execution_count": null,
      "outputs": [
        {
          "output_type": "execute_result",
          "data": {
            "text/plain": [
              "<AxesSubplot:xlabel='time_of_day', ylabel='ups'>"
            ]
          },
          "metadata": {
            "tags": []
          },
          "execution_count": 15
        },
        {
          "output_type": "display_data",
          "data": {
            "image/png": "[encoded data removed]",
            "text/plain": [
              "<Figure size 1080x360 with 4 Axes>"
            ]
          },
          "metadata": {
            "tags": [],
            "needs_background": "light"
          }
        }
      ]
    },
    {
      "cell_type": "code",
      "metadata": {
        "id": "0bXPcUcHJV2f",
        "outputId": "0ff1b520-c48a-4337-ab8d-8ddb090f585e"
      },
      "source": [
        "fig, axes = plt.subplots(1, 4, figsize=(15, 5), sharey=True)\n",
        "sns.scatterplot(ax=axes[0],x=reddit_memes_postes[\"avg_saturation\"], y=reddit_memes_postes.ups)\n",
        "sns.scatterplot(ax=axes[1],x=reddit_memes_postes[\"avg_value\"], y=reddit_memes_postes.ups)\n",
        "sns.scatterplot(ax=axes[2],x=reddit_memes_postes[\"vgg1_prob\"], y=reddit_memes_postes.ups)\n",
        "sns.scatterplot(ax=axes[3],x=reddit_memes_postes[\"vgg2_prob\"], y=reddit_memes_postes.ups)\n"
      ],
      "execution_count": null,
      "outputs": [
        {
          "output_type": "execute_result",
          "data": {
            "text/plain": [
              "<AxesSubplot:xlabel='vgg2_prob', ylabel='ups'>"
            ]
          },
          "metadata": {
            "tags": []
          },
          "execution_count": 16
        },
        {
          "output_type": "display_data",
          "data": {
            "image/png": "[encoded data removed]",
            "text/plain": [
              "<Figure size 1080x360 with 4 Axes>"
            ]
          },
          "metadata": {
            "tags": [],
            "needs_background": "light"
          }
        }
      ]
    },
    {
      "cell_type": "markdown",
      "metadata": {
        "id": "gOIuQ0-mK8IF"
      },
      "source": [
        " With the results of correlation matrix , we can clearly choose our features and remove those with less correlation with our target value which it's \"ups\" (the up vote), after analyzing the different results , we are going to use as features entries {thumbnail.height, time_of_day,TextLength,Sentiment,avg_value, all the vgg mentioned, is_nsfw) the avg_value means whether the picture has higher brightness or not and we all know that when the picture is dark it hass less effect then the bright one (in the memes context) . We didnt choose the colors columns even if it has higher correlations , because it was used for an image processing purpose which was to predict Sentiment."
      ]
    },
    {
      "cell_type": "markdown",
      "metadata": {
        "id": "9NaF1qCVVB--"
      },
      "source": [
        "# **Define the Problem as a Machine learning Problem**"
      ]
    },
    {
      "cell_type": "markdown",
      "metadata": {
        "id": "jVXgmTTtVDuX"
      },
      "source": [
        "##  **The Problem** "
      ]
    },
    {
      "cell_type": "markdown",
      "metadata": {
        "id": "cbGQOa2J_Zzn"
      },
      "source": [
        "\n",
        "\n",
        " Predicting popularity of posts in social media networks is an interesting task: could be used for more targeted advertising, content filtering , understanding population general opinion or just improving one's own reputation .\n",
        "  We will focus on the topic of Memes from Reddit Plateform , the popular one with a lot of examples and data ready to use, with all of that we will try to predict their scores(number of upvotes).\n",
        "\n"
      ]
    },
    {
      "cell_type": "markdown",
      "metadata": {
        "id": "HNxUqU9BVe-W"
      },
      "source": [
        "###  Assumptions :"
      ]
    },
    {
      "cell_type": "markdown",
      "metadata": {
        "id": "XxQhkR6iVdy_"
      },
      "source": [
        " \n",
        " For example in our work : \n",
        " <ul>\n",
        "  <li>the size of thumbnail in the meme used will matter to the model.\n",
        "  <li> The number of subscribers in the subbredit does not matter to the model.\n",
        "  <li>The type of color used on the image may matter to the model.\n",
        "  <li>Older posts are less predictive than more recent ones. \n",
        "  </ul>"
      ]
    },
    {
      "cell_type": "markdown",
      "metadata": {
        "id": "pAEGNWzwVM1o"
      },
      "source": [
        "## **Motivation**"
      ]
    },
    {
      "cell_type": "markdown",
      "metadata": {
        "id": "UNbj7SkeVKni"
      },
      "source": [
        "\n",
        " This problem need to be solved since the community of \"memers\" is so huge and very active , we can clearly see a lot of new memes posted everyday in all types of subjects. And also we are solving this problem to make sure we assimiled all the machine learning methods that we studied up to now and see if we can get a good model as a result.\n",
        "  Solving this problem might helps a lot of \"memers\", personnally I create a lot of memes but sometimes I hesitate to post them fearing that it will not get enough recognition or positive reacts so at the end I just keep them on my archive folder , and I'm pretty sure I'm not the only one facing this problem.\n"
      ]
    },
    {
      "cell_type": "markdown",
      "metadata": {
        "id": "LGHkRYO5VSrS"
      },
      "source": [
        "## **Solution Use**"
      ]
    },
    {
      "cell_type": "markdown",
      "metadata": {
        "id": "qIbFlzEtVRCd"
      },
      "source": [
        "\n",
        "  Solving this problem and generating the final model can be considered as easy to use for all types of users without having any background on machine learning or data science in general. But we are not sure this project will be working at a long period since methods are getting evoluating each day and even the approach and the vision of the memes community change every month or week , so this project is jsut beginning and can be set at a maintenance lifetime. It can also influence the reddit community , we pretend that by using this model the quality of memes will be increased and why not we can adopt the solution for different types of subredits.\n",
        "\n"
      ]
    },
    {
      "cell_type": "markdown",
      "metadata": {
        "id": "eIlgzXrfVWq3"
      },
      "source": [
        "## **How would we solve the problem?**"
      ]
    },
    {
      "cell_type": "markdown",
      "metadata": {
        "id": "KCEa7C8kVVde"
      },
      "source": [
        "\n",
        "  This problem can be solved by first of all collecting the data , we are lucky that we found a complete dataset in \"Dank_Meme_Article\" that just need to be optimised and cleaned (preprocessing steps).\n",
        "  Then , we will use diffrent Machine learning approach to get the suited model for our problem by comparing their scores, we will explain it deeply in the following chapter. "
      ]
    },
    {
      "cell_type": "markdown",
      "metadata": {
        "id": "IHClBXbtV3UQ"
      },
      "source": [
        "# **Define the methodology and protocol that we will use to tackle the problem.** "
      ]
    },
    {
      "cell_type": "markdown",
      "metadata": {
        "id": "LPUpQWCyWaJz"
      },
      "source": [
        "To tackle our problem we will use the standard workflow of a Machine Learning project."
      ]
    },
    {
      "cell_type": "markdown",
      "metadata": {
        "id": "ZYeI3AvrWbap"
      },
      "source": [
        "## Gathering Data"
      ]
    },
    {
      "cell_type": "markdown",
      "metadata": {
        "id": "WBk_UT5ZWdDo"
      },
      "source": [
        "We will use an existing dataset of reddit posts as mentioned in the second section. "
      ]
    },
    {
      "cell_type": "markdown",
      "metadata": {
        "id": "d0A9VtLZWeoJ"
      },
      "source": [
        "## Data pre-processing"
      ]
    },
    {
      "cell_type": "markdown",
      "metadata": {
        "id": "-JdIZ1-PWw2J"
      },
      "source": [
        "## Researching the model that will be best for the type of data"
      ]
    },
    {
      "cell_type": "markdown",
      "metadata": {
        "id": "RyyfS3w_WgTa"
      },
      "source": [
        "\n",
        "Our main goal is to train the best performing model possible, using the pre-processed data.\n",
        "By Projecting our case to SkLearn road map we have to chose these models :\n",
        "<ul> \n",
        "<li>Ridge Regression</li>\n",
        "<li>RandomForest</li>\n",
        "<li>BayesianRidge</li>\n",
        "</ul>"
      ]
    },
    {
      "cell_type": "markdown",
      "metadata": {
        "id": "egu66SoQW0PN"
      },
      "source": [
        "<img src=\"https://scikit-learn.org/stable/_static/ml_map.png\" width=700px />"
      ]
    },
    {
      "cell_type": "markdown",
      "metadata": {
        "id": "7YzRgId7W3Oy"
      },
      "source": [
        "## Training and testing the model on data"
      ]
    },
    {
      "cell_type": "markdown",
      "metadata": {
        "id": "JHuylwchW5Yz"
      },
      "source": [
        "For training a model we initially split the model into 3 three sections which are ‘Training data’ ,‘Validation data’ and ‘Testing data’.\n",
        "We will train the classifier using ‘training data set’, tune the parameters using ‘validation set’ and then test the performance of your classifier on unseen ‘test data set’."
      ]
    },
    {
      "cell_type": "markdown",
      "metadata": {
        "id": "K5OMy6dhW8Mt"
      },
      "source": [
        "## Evaluate the Model"
      ]
    },
    {
      "cell_type": "markdown",
      "metadata": {
        "id": "mqQNeEvOW-7M"
      },
      "source": [
        "We will use the R-squared metric to \"measure\" objective performance of the model.\n",
        "R-squared is a statistical measure of how close the data are to the fitted regression line. It is also known as the coefficient of determination, or the coefficient of multiple determination for multiple regression.\n",
        "\n",
        "The definition of R-squared is fairly straight-forward; it is the percentage of the response variable variation that is explained by a linear model. Or:\n",
        "\n",
        "R-squared = Explained variation / Total variation\n",
        "\n",
        "R-squared is always between 0 and 100%:\n",
        "\n",
        "0% indicates that the model explains none of the variability of the response data around its mean.\n",
        "100% indicates that the model explains all the variability of the response data around its mean.\n",
        "In general, the higher the R-squared, the better the model fits your data. "
      ]
    },
    {
      "cell_type": "markdown",
      "metadata": {
        "id": "4zMzR3XwXBVS"
      },
      "source": [
        "## Parameter Tuning"
      ]
    },
    {
      "cell_type": "markdown",
      "metadata": {
        "id": "E5fuO4cNBoJH"
      },
      "source": [
        "- This step refers to hyperparameter tuning.\n",
        "\n",
        "- Tune model parameters for improved performance.\n",
        "- hyperparameter :\n",
        "\n",
        "**Ridge**:\n",
        "\n",
        "-- alpha: Regularization strength\n",
        "\n",
        "--fit_intercept:Whether to fit the intercept for this model\n",
        "\n",
        "--solver: Solver to use in the computational routines\n",
        "\n",
        "--degree : The degree of the polynomial features.\n",
        "\t\n",
        "**Bayesian**: \n",
        "\n",
        "--n_iter : Maximum number of iterations\n",
        "\n",
        "--alpha_1:  shape parameter for the Gamma distribution prior over the alpha parameter.\n",
        "\n",
        "--alpha_2: inverse scale parameter (rate parameter) for the Gamma distribution prior over the alpha parameter.\n",
        "\n",
        "--lambda_1:shape parameter for the Gamma distribution prior over the lambda parameter.\n",
        "\t\n",
        "--lambda_2:  inverse scale parameter (rate parameter) for the Gamma distribution prior over the lambda parameter.\n",
        "\t\n",
        "**RandomForest**:\n",
        "\n",
        "--n_estimators : The number of trees in the forest.\n",
        "\t\n",
        "--max_depth : The maximum depth of the tree. If None, then nodes are expanded until all leaves are pure or until all leaves contain less than min_samples_split samples.\n",
        "\t\n",
        "--min_samples_split :  The minimum number of samples required to split an internal node\n",
        "\t\n",
        "--min_samples_leaf : The minimum number of samples required to be at a leaf node.\n",
        "\t\n",
        "--max_features : The number of features to consider when looking for the best split:\n",
        "\t\n",
        "--bootstrap : Whether bootstrap samples are used when building trees. If False, the whole dataset is used to build each tree.\n"
      ]
    },
    {
      "cell_type": "markdown",
      "metadata": {
        "id": "e06j5HeOFZOD"
      },
      "source": [
        "# **Implementing various approaches**"
      ]
    },
    {
      "cell_type": "markdown",
      "metadata": {
        "id": "nxMyWLRbzSeN"
      },
      "source": [
        "## Data Pre-processing"
      ]
    },
    {
      "cell_type": "markdown",
      "metadata": {
        "id": "wZI2N994wwhx"
      },
      "source": [
        "### Cleaning"
      ]
    },
    {
      "cell_type": "code",
      "metadata": {
        "id": "HLOairchwt_y",
        "outputId": "eddc7484-764d-41df-f15b-80a7cb179611"
      },
      "source": [
        "columns_to_drop = ['awards', 'processed_words', 'created_utc','thumbnail.width', 'subscribers', 'title', 'url',\n",
        "                   'datetime_temp','ups_normed', 'dank_level','word_count', 'avg_blueRGB', 'avg_greenRGB',\n",
        "                   'avg_hue', 'avg_redRGB', 'avg_saturation','off-white', 'aqua', 'mustard', 'pure-black','pink',\n",
        "                   'purple', 'red-brown', 'dust-brown', 'gray-blue', 'orange', 'salmon', 'dark-green', 'pure-white',\n",
        "                   'yellow-green', 'bright-yellow', 'teal', 'cyan', 'gray', 'maroon', 'olive', 'light-blue',\n",
        "                   'plum', 'siena-brown', 'gold', 'pure-red', 'pure-green', 'pure-blue', 'coral', 'peach', 'col']\n",
        "reddit_memes_postes.drop(columns=columns_to_drop,inplace=True)\n",
        "print(reddit_memes_postes.columns)"
      ],
      "execution_count": null,
      "outputs": [
        {
          "output_type": "stream",
          "text": [
            "Index(['Unnamed: 0', 'level_0', 'index', 'author', 'downs', 'id', 'is_nsfw',\n",
            "       'media', 'subreddit', 'thumbnail.height', 'thumbnail.thumbnail', 'ups',\n",
            "       'time_of_day', 'TextLength', 'Sentiment', 'avg_value', 'vgg1_prob',\n",
            "       'vgg2_prob', 'vgg3_prob', 'vgg_feature_1', 'vgg_feature_2',\n",
            "       'vgg_feature_3'],\n",
            "      dtype='object')\n"
          ],
          "name": "stdout"
        }
      ]
    },
    {
      "cell_type": "markdown",
      "metadata": {
        "id": "fM5Xqu5xyfv7"
      },
      "source": [
        "### Selecting the subreddit"
      ]
    },
    {
      "cell_type": "markdown",
      "metadata": {
        "id": "GvrfnLBpzEWX"
      },
      "source": [
        "let start with the subreddit with the heigher number of posts"
      ]
    },
    {
      "cell_type": "code",
      "metadata": {
        "id": "fC5_BpaXyHbl"
      },
      "source": [
        "reddit_memes_postes.dropna(inplace=True)"
      ],
      "execution_count": null,
      "outputs": []
    },
    {
      "cell_type": "code",
      "metadata": {
        "id": "SPrW7NIfl7Xs"
      },
      "source": [
        "reddit_memes_postes_original = reddit_memes_postes.copy()"
      ],
      "execution_count": null,
      "outputs": []
    },
    {
      "cell_type": "code",
      "metadata": {
        "id": "UFH7lkk7yojQ"
      },
      "source": [
        "reddit_memes_postes = reddit_memes_postes[reddit_memes_postes[\"subreddit\"] == reddit_memes_postes[\"subreddit\"].value_counts().idxmax()]\n",
        "reddit_memes_postes.drop(columns=[\"subreddit\"],inplace=True)"
      ],
      "execution_count": null,
      "outputs": []
    },
    {
      "cell_type": "markdown",
      "metadata": {
        "id": "3P3lfBhQZLPH"
      },
      "source": [
        "### Encoding vgg features"
      ]
    },
    {
      "cell_type": "markdown",
      "metadata": {
        "id": "1dgcTkGCZWYJ"
      },
      "source": [
        "To be able to work with the vgg features and their probabilities we encode them in a single vector before being added to the dataframe."
      ]
    },
    {
      "cell_type": "code",
      "metadata": {
        "id": "pktj-KJaZsAC"
      },
      "source": [
        "def vgg_transformer(reddit_memes_postes):\n",
        "  def catg_prob_to_vector(all_categories, categories, probabilities):\n",
        "    result = np.zeros(len(all_categories))\n",
        "    for i, categorie_element in enumerate(all_categories):\n",
        "      for j, categorie in enumerate(categories):\n",
        "        if categorie==categorie_element:\n",
        "          result[i] = probabilities[j]\n",
        "    return result\n",
        "\n",
        "  all_categories_dup = np.concatenate([reddit_memes_postes['vgg_feature_1'][reddit_memes_postes['vgg_feature_1'].notnull()],\n",
        "                                       reddit_memes_postes['vgg_feature_2'][reddit_memes_postes['vgg_feature_2'].notnull()],\n",
        "                                       reddit_memes_postes['vgg_feature_3'][reddit_memes_postes['vgg_feature_3'].notnull()]])\n",
        "  all_categories = np.unique(all_categories_dup)\n",
        "  new_vgg = []\n",
        "  for _,row in reddit_memes_postes.iterrows():\n",
        "    temp_c = np.concatenate([[row['vgg_feature_1']],\n",
        "                            [row['vgg_feature_2']],\n",
        "                            [row['vgg_feature_3']]])\n",
        "    temp_p = np.concatenate([[row['vgg1_prob']],\n",
        "                            [row['vgg2_prob']],\n",
        "                            [row['vgg3_prob']]])\n",
        "    new_vgg.append(catg_prob_to_vector(all_categories, temp_c, temp_p))\n",
        "  return new_vgg"
      ],
      "execution_count": null,
      "outputs": []
    },
    {
      "cell_type": "code",
      "metadata": {
        "id": "EhrZ31IssQUa"
      },
      "source": [
        "new_vgg = vgg_transformer(reddit_memes_postes)"
      ],
      "execution_count": null,
      "outputs": []
    },
    {
      "cell_type": "markdown",
      "metadata": {
        "id": "z2pqPDjbbDol"
      },
      "source": [
        "### Dimension reduction of vgg features"
      ]
    },
    {
      "cell_type": "markdown",
      "metadata": {
        "id": "X5qeTarFbLbN"
      },
      "source": [
        "As you can see the size of the vector is high therfore we propose deducing the dimension of the vector using pca:"
      ]
    },
    {
      "cell_type": "code",
      "metadata": {
        "id": "uYNAe4h9a8mF"
      },
      "source": [
        "def plot_variance_nbComponents(vectors, percentage_variance, figsize=(15, 5)):\n",
        "  pca = PCA().fit(vectors)\n",
        "  fig = plt.figure(figsize=figsize)\n",
        "  plt.plot(np.cumsum(pca.explained_variance_ratio_), marker='o')\n",
        "  plt.axhline(y=percentage_variance, color=\"red\")\n",
        "  plt.xlabel('No. of principal components')\n",
        "  plt.ylabel('cumulative % variance retained')\n",
        "  plt.grid(True)\n",
        "  plt.title('Cumulative explained variance across the number of components of vgg') "
      ],
      "execution_count": null,
      "outputs": []
    },
    {
      "cell_type": "code",
      "metadata": {
        "id": "wHpQHLXibhlG",
        "outputId": "fa350cee-3452-4bd4-bb67-9042c90976ad"
      },
      "source": [
        "plot_variance_nbComponents(new_vgg, 0.95)"
      ],
      "execution_count": null,
      "outputs": [
        {
          "output_type": "display_data",
          "data": {
            "image/png": "[encoded data removed]",
            "text/plain": [
              "<Figure size 1080x360 with 1 Axes>"
            ]
          },
          "metadata": {
            "tags": [],
            "needs_background": "light"
          }
        }
      ]
    },
    {
      "cell_type": "code",
      "metadata": {
        "id": "p7ncnJZjbiSb"
      },
      "source": [
        "pca = PCA(n_components=50)\n",
        "new_vgg = pca.fit_transform(new_vgg)"
      ],
      "execution_count": null,
      "outputs": []
    },
    {
      "cell_type": "markdown",
      "metadata": {
        "id": "-_Nc-FhxbrEh"
      },
      "source": [
        "Now we can add it:"
      ]
    },
    {
      "cell_type": "code",
      "metadata": {
        "id": "Rw5VM_hRbqhA"
      },
      "source": [
        "temporal_df = pd.DataFrame(new_vgg,columns=[str(value) for value in range(len(new_vgg[0]))])"
      ],
      "execution_count": null,
      "outputs": []
    },
    {
      "cell_type": "code",
      "metadata": {
        "id": "cYc411EHb989"
      },
      "source": [
        "reddit_memes_postes.reset_index(drop=True, inplace=True)\n",
        "temporal_df.reset_index(drop=True, inplace=True)\n",
        "reddit_memes_postes = pd.concat([reddit_memes_postes, temporal_df], axis=1)"
      ],
      "execution_count": null,
      "outputs": []
    },
    {
      "cell_type": "markdown",
      "metadata": {
        "id": "oyqk2BVF1Rdi"
      },
      "source": [
        "### Designing Pipeline for pre-processing"
      ]
    },
    {
      "cell_type": "code",
      "metadata": {
        "id": "0-rJoN7pFnVm"
      },
      "source": [
        "X = reddit_memes_postes.drop(columns=[\"ups\"],axis=1) # remove the column we want to predict\n",
        "y = reddit_memes_postes[\"ups\"] \n",
        "\n",
        "#Define Numerical features\n",
        "numeric_features = ['TextLength', 'Sentiment', 'avg_value','thumbnail.height'] + [str(value) for value in range(len(new_vgg[0]))]\n",
        "numeric_transformer = Pipeline(steps=[\n",
        "    ('scaler', StandardScaler())\n",
        "    ])\n",
        "\n",
        "#Define Categorical features \n",
        "categorical_features = [\"is_nsfw\", \"time_of_day\"] # data that we want to convert to numerical\n",
        "\n",
        "categorical_transformer = Pipeline(steps=[\n",
        "      (\"onehot\", OneHotEncoder(handle_unknown=\"ignore\"))\n",
        "    ])\n",
        "\n",
        "# Setup preprocessing  steps (Converting categorical features to numerical)\n",
        "preprocessor = ColumnTransformer(transformers=[\n",
        "                                    ('num', numeric_transformer, numeric_features),\n",
        "                                    (\"cat\",categorical_transformer,categorical_features)                                              \n",
        "                                 ])"
      ],
      "execution_count": null,
      "outputs": []
    },
    {
      "cell_type": "markdown",
      "metadata": {
        "id": "686pPX2I1rhh"
      },
      "source": [
        "### Spliting data"
      ]
    },
    {
      "cell_type": "code",
      "metadata": {
        "id": "h6DqtyDS00ii"
      },
      "source": [
        "X_train,X_test,y_train,y_test = train_test_split(X,y,test_size=0.2)"
      ],
      "execution_count": null,
      "outputs": []
    },
    {
      "cell_type": "markdown",
      "metadata": {
        "id": "rTYQl-bPd-8W"
      },
      "source": [
        "## Training Models"
      ]
    },
    {
      "cell_type": "markdown",
      "metadata": {
        "id": "SAI_pUtJucIi"
      },
      "source": [
        "### Linear Regression:\n"
      ]
    },
    {
      "cell_type": "markdown",
      "metadata": {
        "id": "C-WdHdq0azI4"
      },
      "source": [
        "we choose Linear Regression because it the first model we learned."
      ]
    },
    {
      "cell_type": "code",
      "metadata": {
        "id": "_VsQ6xGT0qNk",
        "outputId": "73fae998-660d-4862-9d24-3f8f3d9314a5"
      },
      "source": [
        "linear_regression_model = Pipeline(steps=[\n",
        "                                          (\"preprocessor\",preprocessor),\n",
        "                                          (\"model\",LinearRegression())                    \n",
        "                          ])    \n",
        "\n",
        "linear_regression_model.fit(X_train,y_train)\n",
        "\n",
        "print(f\"R-squared Training score on Linear Regression:{round(linear_regression_model.score(X_train,y_train),8)}\")"
      ],
      "execution_count": null,
      "outputs": [
        {
          "output_type": "stream",
          "text": [
            "R-squared Training score on Linear Regression:0.0038428\n"
          ],
          "name": "stdout"
        }
      ]
    },
    {
      "cell_type": "markdown",
      "metadata": {
        "id": "a6DB58143kgh"
      },
      "source": [
        "as you can see the performance of linear regression is too poor so we chose to add some Polynomial features to try to getting a higher performance and adding regularization with Ridge Model"
      ]
    },
    {
      "cell_type": "code",
      "metadata": {
        "id": "7uJLskHV3gnf",
        "outputId": "42765524-2d4a-4119-ad99-7ffe868ce30c"
      },
      "source": [
        "ridge_regression_model = Pipeline(steps=[(\"preprocessor\",preprocessor),\n",
        "                                         (\"poly\",PolynomialFeatures(degree=2)),\n",
        "                                         (\"model\",Ridge(alpha=0.4))                    \n",
        "                        ])    \n",
        "\n",
        "ridge_regression_model.fit(X_train,y_train)\n",
        "\n",
        "print(f\"R-squared Training score on linear Regression with polynomial features and regularization:{round(ridge_regression_model.score(X_train,y_train),8)}\")"
      ],
      "execution_count": null,
      "outputs": [
        {
          "output_type": "stream",
          "text": [
            "R-squared Training score on linear Regression with polynomial features and regularization:0.05112017\n"
          ],
          "name": "stdout"
        }
      ]
    },
    {
      "cell_type": "markdown",
      "metadata": {
        "id": "1k8pIh2eavoT"
      },
      "source": [
        "### BayesianRidge Model"
      ]
    },
    {
      "cell_type": "markdown",
      "metadata": {
        "id": "AsSzCYg565hB"
      },
      "source": [
        "\n",
        "We chose Bayesian ridge model since it's a classical regularization technique widely used in Statistics and Machine Learning that we hope will impove the score of the previous model."
      ]
    },
    {
      "cell_type": "code",
      "metadata": {
        "id": "00dn5-ah9RpN",
        "outputId": "1cdfcad5-cc45-4295-9b6f-8a17a6b0f16c"
      },
      "source": [
        "bayesian_ridge_model = Pipeline(steps=[(\"preprocessor\",preprocessor),\n",
        "                        (\"model\",BayesianRidge())                    \n",
        "                        ])    \n",
        "\n",
        "bayesian_ridge_model.fit(X_train,y_train)\n",
        "\n",
        "print(f\"R-squared Training score on Bayesian Regression: {round(bayesian_ridge_model.score(X_train,y_train),8)}\")"
      ],
      "execution_count": null,
      "outputs": [
        {
          "output_type": "stream",
          "text": [
            "R-squared Training score on Bayesian Regression: 0.00161699\n"
          ],
          "name": "stdout"
        }
      ]
    },
    {
      "cell_type": "markdown",
      "metadata": {
        "id": "_AMZ1zVoAtgF"
      },
      "source": [
        "### Random Forest Regressor"
      ]
    },
    {
      "cell_type": "markdown",
      "metadata": {
        "id": "f48rcyAhA43H"
      },
      "source": [
        "Well this is not going well, let's try a differente kind of models"
      ]
    },
    {
      "cell_type": "code",
      "metadata": {
        "id": "72ljlUupBWLw",
        "outputId": "e3174c29-aabb-4120-89c5-09d834ea5e95"
      },
      "source": [
        "random_forest_regressor = Pipeline(steps=[(\"preprocessor\",preprocessor),\n",
        "                        (\"model\",RandomForestRegressor())                    \n",
        "                        ])    \n",
        "\n",
        "random_forest_regressor.fit(X_train,y_train)\n",
        "\n",
        "print(f\"R-squared Training score on Random forest regressor:{round(random_forest_regressor.score(X_train,y_train),8)}\")"
      ],
      "execution_count": null,
      "outputs": [
        {
          "output_type": "stream",
          "text": [
            "R-squared Training score on Random forest regressor:0.84911876\n"
          ],
          "name": "stdout"
        }
      ]
    },
    {
      "cell_type": "markdown",
      "metadata": {
        "id": "lfv_t2t2d1i-"
      },
      "source": [
        "## Evaluating and tuning hyperparameter "
      ]
    },
    {
      "cell_type": "code",
      "metadata": {
        "id": "xM-Ag6ZbgeWd"
      },
      "source": [
        "cv = RepeatedKFold(n_splits=10, n_repeats=3, random_state=1)"
      ],
      "execution_count": null,
      "outputs": []
    },
    {
      "cell_type": "code",
      "metadata": {
        "id": "bQ3umg-Ad0cR"
      },
      "source": [
        "# define search space\n",
        "#for Ridge\n",
        "params_Ridge = {\"model__alpha\": [1,0.1,0.01,0.001,0.0001,0] , \n",
        "                \"model__fit_intercept\": [True, False], \n",
        "                \"model__solver\": ['svd', 'cholesky'],\n",
        "                \"poly__degree\" : [2,5,10]\n",
        "                }\n",
        "#for BayesianRidge\n",
        "params_Bayesian_Ridge = {\"model__n_iter\": [200, 400, 500], \n",
        "                \"model__alpha_1\": [1e-6, 1e-4,3e-2],\n",
        "                \"model__alpha_2\": [1e-6, 1e-4,3e-2],  \n",
        "                \"model__lambda_1\": [1e-6, 1e-4,3e-2]\n",
        "                }\n",
        "#for RandomForest \n",
        "#a reproduire a la main\n",
        "params_Random_Forest = {\n",
        "              'model__max_depth': [None, 10, 20, 60],\n",
        "              'model__bootstrap': [True, False],\n",
        "              'model__max_features': ['auto', 'sqrt'],\n",
        "              'model__min_samples_leaf': [1, 2, 4],\n",
        "              'model__min_samples_split': [2, 5, 10],\n",
        "              'model__n_estimators': [10,100,400,1000,2000,2e+6]\n",
        "    }"
      ],
      "execution_count": null,
      "outputs": []
    },
    {
      "cell_type": "markdown",
      "metadata": {
        "id": "BBKqjdN-jAQM"
      },
      "source": [
        "Considering that we don't have enough ressources, we will do the search on a subset of the one defined above."
      ]
    },
    {
      "cell_type": "code",
      "metadata": {
        "id": "W__8yZhijFWR"
      },
      "source": [
        "#for Ridge\n",
        "params_Ridge = {\n",
        "    \"model__alpha\": [0.1, 0.4], \n",
        "    \"model__fit_intercept\": [True, False], \n",
        "    #\"model__solver\": ['svd', 'cholesky'],\n",
        "    }\n",
        "#for BayesianRidge\n",
        "params_Bayesian_Ridge = {\n",
        "    \"model__n_iter\": [200, 400],\n",
        "    \"model__alpha_1\": [1e-6, 1e-4],\n",
        "    \"model__alpha_2\": [1e-6, 1e-4]\n",
        "    }\n",
        "#for RandomForest\n",
        "params_Random_Forest = {\n",
        "    \"model__n_estimators\" : [10,15],\n",
        "    \"model__max_depth\": [None, 10],\n",
        "    \"model__min_samples_split\": [2, 5],\n",
        "    }"
      ],
      "execution_count": null,
      "outputs": []
    },
    {
      "cell_type": "code",
      "metadata": {
        "id": "T1NH76osi3Iv",
        "outputId": "bad357be-ad35-4c01-97b7-65c62281a1bb"
      },
      "source": [
        "models = [ridge_regression_model,bayesian_ridge_model, random_forest_regressor]\n",
        "parametres = [params_Ridge,params_Bayesian_Ridge,params_Random_Forest]\n",
        "\n",
        "for param,model in zip(parametres,models):\n",
        "  search = GridSearchCV(estimator = model, param_grid=param, scoring='r2', n_jobs=-1, cv=cv)\n",
        "  print(model.named_steps[\"model\"].__class__.__name__)\n",
        "  result = search.fit(X_train,y_train)\n",
        "  print(f\"Best Score: %s\" % result.best_score_)\n",
        "  print(f\"Best Hyperparameters: %s\" % result.best_params_)"
      ],
      "execution_count": null,
      "outputs": [
        {
          "output_type": "stream",
          "text": [
            "Ridge\n",
            "Best Score: -0.4445301668453781\n",
            "Best Hyperparameters: {'model__alpha': 0.4, 'model__fit_intercept': True}\n",
            "BayesianRidge\n",
            "Best Score: 7.610802460895257e-05\n",
            "Best Hyperparameters: {'model__alpha_1': 0.0001, 'model__alpha_2': 1e-06, 'model__n_iter': 200}\n",
            "RandomForestRegressor\n",
            "Best Score: -0.09751693021081076\n",
            "Best Hyperparameters: {'model__max_depth': 10, 'model__min_samples_split': 5, 'model__n_estimators': 15}\n"
          ],
          "name": "stdout"
        }
      ]
    },
    {
      "cell_type": "markdown",
      "metadata": {
        "id": "uExev8uIdd54"
      },
      "source": [
        "## Results discussion"
      ]
    },
    {
      "cell_type": "markdown",
      "metadata": {
        "id": "TgWL3yYJdcKj"
      },
      "source": [
        "As you can see the performance of our choosen models is very poor which is due to not having hight enough corelation between the features on the dataset and our target which affirms our intuition that the score depend principally on the originality of the meme and the context it was posted on.\n",
        "\n",
        "We have the following propositions to improve the performance:\n",
        "* Adding well distrubuted data (in our dataset the majority was on the first quartile).\n",
        "* Searching for new features that have high correlation with the target (accounting for the history of the meme, ot's context, from where it originated...)"
      ]
    },
    {
      "cell_type": "markdown",
      "metadata": {
        "id": "pkelz9s4dODK"
      },
      "source": [
        "# Our best model"
      ]
    },
    {
      "cell_type": "markdown",
      "metadata": {
        "id": "B58XD1yfiXzW"
      },
      "source": [
        "Based on the output of the grid search we conclude that the Bayesian ridge model is the optimal model that we can get to solve our task."
      ]
    },
    {
      "cell_type": "code",
      "metadata": {
        "id": "lJEtZpqMpVYe"
      },
      "source": [
        "bayesian_ridge_model = Pipeline(steps=[(\"preprocessor\",preprocessor),\n",
        "                        (\"model\",BayesianRidge(alpha_1=0.0001, alpha_2=1e-06, n_iter=200))                    \n",
        "                        ]) \n",
        "model = bayesian_ridge_model"
      ],
      "execution_count": null,
      "outputs": []
    },
    {
      "cell_type": "code",
      "metadata": {
        "id": "MfDtE5dnj2qn",
        "outputId": "bef5870d-dc3f-4e78-cf46-b2a0f975e855"
      },
      "source": [
        "model.fit(X_train,y_train)\n",
        "predictions = model.predict(X_test)\n",
        "\n",
        "errors = abs(predictions - y_test)\n",
        "print('Mean Absolute Error:', round(np.mean(errors), 2))"
      ],
      "execution_count": null,
      "outputs": [
        {
          "output_type": "stream",
          "text": [
            "Mean Absolute Error: 995.68\n"
          ],
          "name": "stdout"
        }
      ]
    },
    {
      "cell_type": "markdown",
      "metadata": {
        "id": "d9qRKo_AlEjN"
      },
      "source": [
        "# Knowledge Transfer (Bonus)"
      ]
    },
    {
      "cell_type": "code",
      "metadata": {
        "id": "S-FpBu8JlgrY",
        "outputId": "d5f34e35-8ebc-4d9f-d515-dca039392647"
      },
      "source": [
        "for subreddit in reddit_memes_postes_original[\"subreddit\"].unique():\n",
        "  if subreddit == 'r/memes': continue\n",
        "  current_subreddit = reddit_memes_postes_original[reddit_memes_postes_original[\"subreddit\"] == subreddit]\n",
        "  current_subreddit.drop(columns=[\"subreddit\"],inplace=True)\n",
        "\n",
        "  new_vgg = vgg_transformer(current_subreddit)\n",
        "\n",
        "  pca = PCA(n_components=50)\n",
        "  new_vgg = pca.fit_transform(new_vgg)\n",
        "  temporal_df = pd.DataFrame(new_vgg,columns=[str(value) for value in range(len(new_vgg[0]))])\n",
        "  current_subreddit.reset_index(drop=True, inplace=True)\n",
        "  temporal_df.reset_index(drop=True, inplace=True)\n",
        "  current_subreddit = pd.concat([current_subreddit, temporal_df], axis=1)\n",
        "\n",
        "  X = current_subreddit.drop(columns=[\"ups\"],axis=1)\n",
        "  y = current_subreddit[\"ups\"] \n",
        "\n",
        "  print(subreddit,\":\")\n",
        "  print(f\"R-squared score: {round(model.score(X, y),8)}\")\n",
        "  predictions = model.predict(X)\n",
        "  errors = abs(predictions - y)\n",
        "  print('Mean Absolute Error:', round(np.mean(errors), 2))\n",
        "  print()"
      ],
      "execution_count": null,
      "outputs": [
        {
          "output_type": "stream",
          "text": [
            "r/dank_meme :\n",
            "R-squared score: -0.37031891\n",
            "Mean Absolute Error: 622.26\n",
            "\n",
            "r/dankmeme :\n",
            "R-squared score: -25.68981096\n",
            "Mean Absolute Error: 525.26\n",
            "\n",
            "r/me_irl :\n",
            "R-squared score: -0.00011053\n",
            "Mean Absolute Error: 880.52\n",
            "\n",
            "r/MemeEconomy :\n",
            "R-squared score: -0.06057316\n",
            "Mean Absolute Error: 683.68\n",
            "\n"
          ],
          "name": "stdout"
        }
      ]
    },
    {
      "cell_type": "markdown",
      "metadata": {
        "id": "5e-_KjYjxNGM"
      },
      "source": [
        "# References:"
      ]
    },
    {
      "cell_type": "markdown",
      "metadata": {
        "id": "SRcCykrBxQFb"
      },
      "source": [
        "* https://scikit-learn.org/stable/auto_examples/compose/plot_column_transformer_mixed_types.html\n",
        "* Barnes, Kate, et al. \"Dank or Not?--Analyzing and Predicting the Popularity of Memes on Reddit.\" arXiv preprint arXiv:2011.14326 (2020).\n",
        "* https://en.wikipedia.org/\n",
        "* https://stackoverflow.com/"
      ]
    }
  ]
}